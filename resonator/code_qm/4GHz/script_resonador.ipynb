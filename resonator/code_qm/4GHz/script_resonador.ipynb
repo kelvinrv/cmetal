{
 "cells": [
  {
   "cell_type": "markdown",
   "id": "35d27b44",
   "metadata": {
    "tags": []
   },
   "source": [
    "# Resonador de 4GHz\n",
    "\n",
    "\n",
    "Autor: Kelvin Ramos\n",
    "\n",
    "Descripción: Resonador con f=4.0GHz acoplado a una linea de transmisión con lc=80um"
   ]
  },
  {
   "cell_type": "markdown",
   "id": "3c008839-3ae3-4be9-954d-edcececac3a2",
   "metadata": {},
   "source": [
    "## A. Diseño"
   ]
  },
  {
   "cell_type": "code",
   "execution_count": 13,
   "id": "0b0da17a",
   "metadata": {},
   "outputs": [],
   "source": [
    "# Importamos los paquetes para el diseño\n",
    "import qiskit_metal as metal\n",
    "## diseños planares e interface grafica\n",
    "from qiskit_metal import designs, draw\n",
    "from qiskit_metal import MetalGUI, Dict, open_docs\n",
    "# from qiskit_metal.toolbox_metal import math_and_overrides\n",
    "# from qiskit_metal.qlibrary.core import QComponent\n",
    "# from collections import OrderedDict"
   ]
  },
  {
   "cell_type": "code",
   "execution_count": 12,
   "id": "0772d406-bab2-44de-9c99-1d87bed6ad6c",
   "metadata": {},
   "outputs": [
    {
     "data": {
      "text/plain": [
       "\u001b[1;31mType:\u001b[0m        module\n",
       "\u001b[1;31mString form:\u001b[0m <module 'qiskit_metal.designs' from 'c:\\\\users\\\\quantum circuits ib\\\\qiskit-metal\\\\qiskit_metal\\\\designs\\\\__init__.py'>\n",
       "\u001b[1;31mFile:\u001b[0m        c:\\users\\quantum circuits ib\\qiskit-metal\\qiskit_metal\\designs\\__init__.py\n",
       "\u001b[1;31mDocstring:\u001b[0m  \n",
       "=================================================\n",
       "Designs (:mod:`qiskit_metal.designs`)\n",
       "=================================================\n",
       "\n",
       ".. currentmodule:: qiskit_metal.designs\n",
       "\n",
       "Module containing all Qiskit Metal designs.\n",
       "\n",
       ".. _qdesign:\n",
       "\n",
       "QDesign\n",
       "---------------\n",
       "\n",
       ".. autosummary::\n",
       "    :toctree: ../stubs/\n",
       "\n",
       "    QDesign\n",
       "\n",
       "\n",
       "DesignPlanar\n",
       "---------------\n",
       "\n",
       ".. autosummary::\n",
       "    :toctree: ../stubs/\n",
       "\n",
       "    DesignPlanar\n",
       "\n",
       "\n",
       "MultiPlanar\n",
       "---------------\n",
       "\n",
       ".. autosummary::\n",
       "    :toctree: ../stubs/\n",
       "\n",
       "    MultiPlanar\n",
       "\n",
       "\n",
       "DesignFlipChip\n",
       "---------------\n",
       "\n",
       ".. autosummary::\n",
       "    :toctree: ../stubs/\n",
       "\n",
       "    DesignFlipChip\n",
       "\n",
       "QNet\n",
       "---------------\n",
       "\n",
       ".. autosummary::\n",
       "    :toctree: ../stubs/\n",
       "\n",
       "    QNet\n",
       "\n",
       "\n",
       "InterfaceComponents\n",
       "-------------------\n",
       "\n",
       ".. autosummary::\n",
       "    :toctree: ../stubs/\n",
       "\n",
       "    Components"
      ]
     },
     "metadata": {},
     "output_type": "display_data"
    }
   ],
   "source": [
    "metal.designs?"
   ]
  },
  {
   "cell_type": "code",
   "execution_count": 1,
   "id": "94a959af-9264-43f4-b637-9b1b2b3518f7",
   "metadata": {},
   "outputs": [],
   "source": [
    "# Import useful packages\n",
    "import qiskit_metal as metal\n",
    "from qiskit_metal import designs, draw\n",
    "from qiskit_metal import MetalGUI, Dict, open_docs\n",
    "from qiskit_metal.toolbox_metal import math_and_overrides\n",
    "from qiskit_metal.qlibrary.core import QComponent\n",
    "from collections import OrderedDict\n",
    "\n",
    "# To create plots after geting solution data.\n",
    "import matplotlib.pyplot as plt\n",
    "import numpy as np\n",
    "\n",
    "# Packages for the simple design\n",
    "from qiskit_metal.qlibrary.tlines.meandered import RouteMeander\n",
    "from qiskit_metal.qlibrary.tlines.pathfinder import RoutePathfinder\n",
    "from qiskit_metal.qlibrary.terminations.launchpad_wb_driven import LaunchpadWirebondDriven\n",
    "from qiskit_metal.qlibrary.terminations.open_to_ground import OpenToGround\n",
    "from qiskit_metal.qlibrary.terminations.short_to_ground import ShortToGround\n",
    "from qiskit_metal.qlibrary.couplers.coupled_line_tee import CoupledLineTee\n",
    "\n",
    "# Analysis\n",
    "# from qiskit_metal.renderers.renderer_gds.gds_renderer import QGDSRenderer\n",
    "# from qiskit_metal.analyses.quantization import EPRanalysis\n",
    "from qiskit_metal.analyses.quantization import EPRanalysis\n",
    "from qiskit_metal.analyses.simulation import ScatteringImpedanceSim\n",
    "from qiskit_metal.analyses.sweep_and_optimize.sweeping import Sweeping\n",
    "import pyEPR as epr"
   ]
  },
  {
   "cell_type": "markdown",
   "id": "da768bb6-a490-41b3-94b7-f3e21c62ce54",
   "metadata": {},
   "source": [
    "# Parameters"
   ]
  },
  {
   "cell_type": "code",
   "execution_count": 2,
   "id": "ceeb599e-355e-4c16-82f5-ad57483c4932",
   "metadata": {},
   "outputs": [],
   "source": [
    "from scipy.constants import c"
   ]
  },
  {
   "cell_type": "code",
   "execution_count": 3,
   "id": "fb2b49b6-aef2-4a1f-a3fa-24a97652349e",
   "metadata": {},
   "outputs": [
    {
     "name": "stdout",
     "output_type": "stream",
     "text": [
      "resonator length l=7.378 mm for frequency f0=4.0 GHz\n"
     ]
    }
   ],
   "source": [
    "### f is float in GHz\n",
    "def leng(f):\n",
    "    f2=f*1e9 ## to GHz\n",
    "    eff=(11.9+1)/2\n",
    "    le=c/(4*np.sqrt(eff)*f2)\n",
    "    le=le*1e3 # to milimeters\n",
    "    return print(r'resonator length l={:.3f} mm for frequency f0={} GHz'.format(le,f))\n",
    "leng(4.0)"
   ]
  },
  {
   "cell_type": "markdown",
   "id": "c6e244f8",
   "metadata": {},
   "source": [
    "# diseño del chip"
   ]
  },
  {
   "cell_type": "code",
   "execution_count": 4,
   "id": "a2c10fef",
   "metadata": {},
   "outputs": [],
   "source": [
    "# ### Frecuencia de resonancia\n",
    "# def resonancia(f):\n",
    "#     c,eff=3e8,6.25\n",
    "#     long=c/(4*np.sqrt(eff)*f)\n",
    "#     return long"
   ]
  },
  {
   "cell_type": "code",
   "execution_count": 5,
   "id": "90188593",
   "metadata": {},
   "outputs": [],
   "source": [
    "# freq=np.array([6e9,7e9,8e9]) \n",
    "# for i in range(len(freq)):\n",
    "#     z=resonancia(freq[i])\n",
    "#     print(freq[i]*1e-9,'GHz,', z*1e3, 'mm')"
   ]
  },
  {
   "cell_type": "code",
   "execution_count": 14,
   "id": "3983eac9",
   "metadata": {},
   "outputs": [],
   "source": [
    "# Set up chip dimensions \n",
    "design = designs.DesignPlanar()\n",
    "design._chips['main']['size']['size_x'] = '4mm'\n",
    "design._chips['main']['size']['size_y'] = '3mm'\n",
    "design._chips['main']['size']['size_z'] = '-400um-50nm'\n",
    "# Resonator and feedline gap width (W) and center conductor width (S) from reference 2\n",
    "design.variables['cpw_width'] = '20um' #S from reference 2\n",
    "design.variables['cpw_gap'] = '11um' #W from reference 2\n",
    "\n",
    "\n",
    "design.overwrite_enabled = True\n",
    "\n",
    "#hfss = design.renderers.hfss\n",
    "\n",
    "# Open GUI\n",
    "gui = MetalGUI(design)"
   ]
  },
  {
   "cell_type": "code",
   "execution_count": 23,
   "id": "fe3c9817-664c-4dac-bfa1-64e5ba5d2426",
   "metadata": {},
   "outputs": [
    {
     "ename": "AttributeError",
     "evalue": "module 'qiskit_metal.designs' has no attribute 'chips'",
     "output_type": "error",
     "traceback": [
      "\u001b[1;31m---------------------------------------------------------------------------\u001b[0m",
      "\u001b[1;31mAttributeError\u001b[0m                            Traceback (most recent call last)",
      "Cell \u001b[1;32mIn[23], line 1\u001b[0m\n\u001b[1;32m----> 1\u001b[0m \u001b[43mdesigns\u001b[49m\u001b[38;5;241;43m.\u001b[39;49m\u001b[43mchips\u001b[49m\n",
      "\u001b[1;31mAttributeError\u001b[0m: module 'qiskit_metal.designs' has no attribute 'chips'"
     ]
    }
   ],
   "source": [
    "designs.chips"
   ]
  },
  {
   "cell_type": "code",
   "execution_count": 8,
   "id": "8d95be63",
   "metadata": {},
   "outputs": [],
   "source": [
    "design.chips.main.size['center_x'] = '2.0mm'\n",
    "design.chips.main.size['center_y'] = '1.5mm'"
   ]
  },
  {
   "cell_type": "code",
   "execution_count": 9,
   "id": "cc2c100f",
   "metadata": {},
   "outputs": [],
   "source": [
    "# Define for renderer\n",
    "eig_qres = EPRanalysis(design, \"hfss\")\n",
    "hfss = design.renderers.hfss\n",
    "hfss = eig_qres.sim.renderer\n",
    "q3d = design.renderers.q3d"
   ]
  },
  {
   "cell_type": "markdown",
   "id": "055c0bef",
   "metadata": {},
   "source": [
    "# Capacitors\n",
    "\n",
    "Here we will have a single feedline couple to 16 CPW resonators.\n"
   ]
  },
  {
   "cell_type": "code",
   "execution_count": 14,
   "id": "6e5d2a26-8f52-4752-b375-b387bd7af75f",
   "metadata": {},
   "outputs": [
    {
     "name": "stdout",
     "output_type": "stream",
     "text": [
      "resonator length l=7.378 mm for frequency f0=4 GHz\n",
      "coupling length: 0.110 mm\n"
     ]
    }
   ],
   "source": [
    "leng(4)\n",
    "coup=20e-3\n",
    "fil=90e-3\n",
    "start_leg=100e-3\n",
    "len_coup=coup+fil\n",
    "print(r'coupling length: {:.3f} mm'.format(len_coup))"
   ]
  },
  {
   "cell_type": "code",
   "execution_count": 17,
   "id": "39edaee9",
   "metadata": {},
   "outputs": [],
   "source": [
    "#### we must to add the fillet factor to the coumpling_length\n",
    "\n",
    "\n",
    "ubi_1=dict(pos_x='2.0mm', pos_y='1.5mm', prime_width='20um', prime_gap='11um', \n",
    "         second_width='20um', second_gap='11um', coupling_space='10um', \n",
    "         coupling_length='110um', down_length='100um', fillet='90um', hfss_wire_bonds=True)\n",
    "\n",
    "Capacitor_1 = CoupledLineTee(design, 'Capacitor_1', options=ubi_1)\n",
    "\n",
    "gui.rebuild()\n",
    "gui.autoscale()"
   ]
  },
  {
   "cell_type": "markdown",
   "id": "ce4ca222",
   "metadata": {},
   "source": [
    "# Launchpad\n",
    "\n",
    "\n",
    "The lauchpad should be included in the driven model simulations.\n",
    "\n",
    "For that reason, we use the LaunchpadWirebondDriven component which has an extra pin for input/output"
   ]
  },
  {
   "cell_type": "code",
   "execution_count": 18,
   "id": "ef570ed8",
   "metadata": {},
   "outputs": [],
   "source": [
    "###################\n",
    "# Single feedline #\n",
    "###################\n",
    "\n",
    "# Driven Lauchpad 1\n",
    "x1 = '0.5mm'\n",
    "y1 = '1.5mm'\n",
    "ops_1 = Dict(chip='main', pos_x=x1, pos_y=y1, orientation='360', lead_length='10um', \n",
    "             pad_width='120um', pad_gap='61um', trace_width='20um', trace_gap='11um')\n",
    "LP1 = LaunchpadWirebondDriven(design, 'LP1', options = ops_1)\n",
    "\n",
    "# Driven Launchpad 2\n",
    "x2 = '3.5mm'\n",
    "y2 = '1.5mm'\n",
    "ops_2 = Dict(chip='main', pos_x=x2, pos_y=y2, orientation='180', lead_length='10um',\n",
    "             pad_width='120um', pad_gap='61um', trace_width='20um', trace_gap='11um')\n",
    "LP2 = LaunchpadWirebondDriven(design, 'LP2', options = ops_2)\n",
    "\n",
    "\n",
    "# Rebuild the GUI\n",
    "gui.rebuild()\n",
    "gui.autoscale()"
   ]
  },
  {
   "cell_type": "markdown",
   "id": "f092163f",
   "metadata": {},
   "source": [
    "# Transmission lines"
   ]
  },
  {
   "cell_type": "markdown",
   "id": "ac57d683",
   "metadata": {},
   "source": [
    "## First part"
   ]
  },
  {
   "cell_type": "code",
   "execution_count": 19,
   "id": "e9fa20dd",
   "metadata": {},
   "outputs": [],
   "source": [
    "# Using path finder to connect the two launchpads\n",
    "# Using path finder to connect the two launchpads\n",
    "#### LP1 capacitor\n",
    "linea_1 = RoutePathfinder(design, 'linea_1', options = Dict(chip='main', trace_width ='20um',\n",
    "        trace_gap ='11um', fillet='10um', hfss_wire_bonds = True, lead=Dict(end_straight='0.0mm'),\n",
    "                                            pin_inputs=Dict(\n",
    "                                                start_pin=Dict(\n",
    "                                                    component='LP1',\n",
    "                                                    pin='tie'),\n",
    "                                                end_pin=Dict(\n",
    "                                                    component='Capacitor_1',\n",
    "                                                    pin='prime_start')\n",
    "                                    \n",
    "        )))\n",
    "linea_4 = RoutePathfinder(design, 'linea_4', options = Dict(chip='main', trace_width ='20um',\n",
    "        trace_gap ='11um', fillet='10um', hfss_wire_bonds = True,\n",
    "                                            lead=Dict(end_straight='0.0mm'),\n",
    "                                            pin_inputs=Dict(\n",
    "                                                start_pin=Dict(\n",
    "                                                    component='Capacitor_1',\n",
    "                                                    pin='prime_end'),\n",
    "                                                end_pin=Dict(\n",
    "                                                    component='LP2',\n",
    "                                                    pin='tie')\n",
    "                                            )))\n",
    "#### LP2 capacitorb\n",
    "\n",
    "\n",
    "# Rebuild the GUI\n",
    "gui.rebuild()\n",
    "gui.autoscale() \n"
   ]
  },
  {
   "cell_type": "markdown",
   "id": "f6eec4ad",
   "metadata": {},
   "source": [
    "# Resonators"
   ]
  },
  {
   "cell_type": "markdown",
   "id": "0822363c-debb-4c09-ac40-9fa13dae546a",
   "metadata": {},
   "source": [
    "#### coupling length"
   ]
  },
  {
   "cell_type": "code",
   "execution_count": 13,
   "id": "1235a0a2-ea33-4da3-9465-a546a69086b6",
   "metadata": {},
   "outputs": [],
   "source": [
    "# longitud_1=np.array([4.613, 4.521, 4.432, 4.347])*1000 ### um\n",
    "# len_1=np.array([117, 115, 113.35, 111.68 ]) ##um\n",
    "# fillet_1, down_1en_1=90, 100 #um\n",
    "# longitud_total=longitud_1-len_1-fillet_1-down_1en_1 \n",
    "# print(longitud_total)"
   ]
  },
  {
   "cell_type": "code",
   "execution_count": 20,
   "id": "1ca57936-158b-4e6d-b2b7-1dd323fd9ee6",
   "metadata": {},
   "outputs": [
    {
     "name": "stdout",
     "output_type": "stream",
     "text": [
      "resonator length l=7.378 mm for frequency f0=4.0 GHz\n",
      "true_length 7.268000000000001\n"
     ]
    }
   ],
   "source": [
    "leng(4.0)\n",
    "len_true=7.378-coup-fil\n",
    "print('true_length', len_true)"
   ]
  },
  {
   "cell_type": "code",
   "execution_count": 21,
   "id": "92b1570a",
   "metadata": {},
   "outputs": [],
   "source": [
    "######################\n",
    "# lambda/4 resonator #\n",
    "######################\n",
    "\n",
    "otg1 = ShortToGround(design, 'otg1', options=Dict(chip='main', pos_x='2.0mm',  pos_y='0.15mm',\n",
    "                                                  orientation='0'))\n",
    "\n",
    "# Use RouteMeander to fix the total length of the resonator\n",
    "meandro_1 = RouteMeander(design, 'meandro_1',  options=Dict(chip='main',\n",
    "        trace_width ='cpw_width',\n",
    "        trace_gap ='11um',\n",
    "        total_length='7.268mm',\n",
    "        hfss_wire_bonds = True,\n",
    "        fillet='90 um',\n",
    "        lead = Dict(start_straight='400um', end_straight='100um'),\n",
    "        meander=Dict(spacing='250um', asymmetry='0um'),\n",
    "        pin_inputs=Dict(\n",
    "            start_pin=Dict(component='Capacitor_1', pin='second_end'),\n",
    "            end_pin=Dict(component='otg1', pin='short')), ))\n",
    "\n",
    "# rebuild the GUI\n",
    "gui.rebuild()\n",
    "gui.autoscale()"
   ]
  },
  {
   "cell_type": "code",
   "execution_count": 16,
   "id": "6324ce10",
   "metadata": {},
   "outputs": [
    {
     "data": {
      "text/plain": [
       "{'chip': 'main',\n",
       " 'layer': '1',\n",
       " 'pin_inputs': {'start_pin': {'component': 'Capacitor_1', 'pin': 'second_end'},\n",
       "  'end_pin': {'component': 'otg1', 'pin': 'short'}},\n",
       " 'fillet': '90 um',\n",
       " 'lead': {'start_straight': '400um',\n",
       "  'end_straight': '100um',\n",
       "  'start_jogged_extension': '',\n",
       "  'end_jogged_extension': ''},\n",
       " 'total_length': '7.188mm',\n",
       " 'trace_width': 'cpw_width',\n",
       " 'meander': {'spacing': '250um', 'asymmetry': '0um'},\n",
       " 'snap': 'true',\n",
       " 'prevent_short_edges': 'true',\n",
       " 'hfss_wire_bonds': True,\n",
       " 'q3d_wire_bonds': False,\n",
       " 'aedt_q3d_wire_bonds': False,\n",
       " 'aedt_hfss_drivenmodal_wire_bonds': False,\n",
       " 'aedt_hfss_eigenmode_wire_bonds': False,\n",
       " 'trace_gap': '11um',\n",
       " '_actual_length': '7.188 mm'}"
      ]
     },
     "execution_count": 16,
     "metadata": {},
     "output_type": "execute_result"
    }
   ],
   "source": [
    "meandro_1.options"
   ]
  },
  {
   "cell_type": "markdown",
   "id": "5b1c489c",
   "metadata": {},
   "source": [
    "# Simulacion"
   ]
  },
  {
   "cell_type": "markdown",
   "id": "480ee94c",
   "metadata": {},
   "source": [
    "### EPR analysis for frequency convergence"
   ]
  },
  {
   "cell_type": "code",
   "execution_count": 17,
   "id": "2dd8689a",
   "metadata": {},
   "outputs": [],
   "source": [
    "from qiskit_metal.analyses.quantization import EPRanalysis\n",
    "eig_res = EPRanalysis(design, \"hfss\")"
   ]
  },
  {
   "cell_type": "code",
   "execution_count": 22,
   "id": "f8f9a229",
   "metadata": {},
   "outputs": [],
   "source": [
    "hfss = eig_res.sim.renderer"
   ]
  },
  {
   "cell_type": "code",
   "execution_count": 23,
   "id": "e61f3ae5",
   "metadata": {},
   "outputs": [
    {
     "name": "stderr",
     "output_type": "stream",
     "text": [
      "INFO 04:00PM [connect_project]: Connecting to Ansys Desktop API...\n",
      "INFO 04:00PM [load_ansys_project]: \tOpened Ansys App\n",
      "INFO 04:00PM [load_ansys_project]: \tOpened Ansys Desktop v2018.0.0\n",
      "INFO 04:00PM [load_ansys_project]: \tOpened Ansys Project\n",
      "\tFolder:    C:/Users/Quantum Circuits IB/Documents/Ansoft/\n",
      "\tProject:   Project11\n",
      "INFO 04:00PM [connect_design]: \tOpened active design\n",
      "\tDesign:    HFSSDesign1 [Solution type: DrivenModal]\n",
      "WARNING 04:00PM [connect_setup]: \tNo design setup detected.\n",
      "WARNING 04:00PM [connect_setup]: \tCreating driven modal default setup.\n",
      "INFO 04:00PM [get_setup]: \tOpened setup `Setup`  (<class 'pyEPR.ansys.HfssDMSetup'>)\n",
      "INFO 04:00PM [connect]: \tConnected to project \"Project11\" and design \"HFSSDesign1\" 😀 \n",
      "\n"
     ]
    },
    {
     "data": {
      "text/plain": [
       "True"
      ]
     },
     "execution_count": 23,
     "metadata": {},
     "output_type": "execute_result"
    }
   ],
   "source": [
    "hfss.start() ## start hfss"
   ]
  },
  {
   "cell_type": "code",
   "execution_count": 24,
   "id": "0644074d",
   "metadata": {},
   "outputs": [],
   "source": [
    "# clean the design if needed\n",
    "hfss.clean_active_design()"
   ]
  },
  {
   "cell_type": "code",
   "execution_count": 25,
   "id": "f1dec56a",
   "metadata": {},
   "outputs": [
    {
     "name": "stderr",
     "output_type": "stream",
     "text": [
      "04:00PM 52s WARNING [activate_ansys_design]: The design_name=Readouta was not in active project.  Designs in active project are: \n",
      "['HFSSDesign1'].  A new design will be added to the project.  \n",
      "INFO 04:00PM [connect_design]: \tOpened active design\n",
      "\tDesign:    Readouta [Solution type: Eigenmode]\n",
      "WARNING 04:00PM [connect_setup]: \tNo design setup detected.\n",
      "WARNING 04:00PM [connect_setup]: \tCreating eigenmode default setup.\n",
      "INFO 04:00PM [get_setup]: \tOpened setup `Setup`  (<class 'pyEPR.ansys.HfssEMSetup'>)\n"
     ]
    }
   ],
   "source": [
    "hfss.activate_ansys_design(\"Readouta\", 'eigenmode')  # use new_ansys_design() to force creation of a blank design"
   ]
  },
  {
   "cell_type": "code",
   "execution_count": 26,
   "id": "2de048bc",
   "metadata": {},
   "outputs": [],
   "source": [
    "hfss.render_design([], [])\n",
    "#hfss.save_screenshot()"
   ]
  },
  {
   "cell_type": "code",
   "execution_count": 27,
   "id": "5e4bd3fc",
   "metadata": {},
   "outputs": [
    {
     "name": "stderr",
     "output_type": "stream",
     "text": [
      "INFO 04:01PM [analyze]: Analyzing setup Setup\n"
     ]
    },
    {
     "name": "stdout",
     "output_type": "stream",
     "text": [
      "\n",
      "Number of eigenmodes to find             = 1\n",
      "Number of simulation passes              = 8\n",
      "Convergence freq max delta percent diff  = 0.01\n",
      "\n"
     ]
    }
   ],
   "source": [
    "# Analysis properties\n",
    "setup = hfss.pinfo.setup\n",
    "setup.passes = 8\n",
    "setup.delta_f=0.01\n",
    "print(f\"\"\"\n",
    "Number of eigenmodes to find             = {setup.n_modes}\n",
    "Number of simulation passes              = {setup.passes}\n",
    "Convergence freq max delta percent diff  = {setup.delta_f}\n",
    "\"\"\")\n",
    "\n",
    "# Next 2 lines are counterinuitive, since there is no junction in this resonator.\n",
    "# However, these are necessary to make pyEPR work correctly. Please do note delete\n",
    "hfss.pinfo.design.set_variable('Lj', '10 nH')\n",
    "hfss.pinfo.design.set_variable('Cj', '0 fF')\n",
    "setup.analyze()"
   ]
  },
  {
   "cell_type": "code",
   "execution_count": 84,
   "id": "33ac0cfd",
   "metadata": {},
   "outputs": [
    {
     "name": "stderr",
     "output_type": "stream",
     "text": [
      "04:05PM 04s INFO [get_f_convergence]: Saved convergences to C:\\Users\\Quantum Circuits IB\\Documents\\Kelvin\\qiskit-metal\\qmetal\\simu\\resonator\\code_qm\\4GHz\\hfss_eig_f_convergence.csv\n"
     ]
    }
   ],
   "source": [
    "eig_res.sim.convergence_t, eig_res.sim.convergence_f, _ = hfss.get_convergences()\n",
    "eig_res.sim.plot_convergences()"
   ]
  },
  {
   "cell_type": "markdown",
   "id": "326eb5e7-3f08-46c7-8a6f-aef5bd275cc2",
   "metadata": {},
   "source": [
    "### Driven modal for S21 behaviour"
   ]
  },
  {
   "cell_type": "code",
   "execution_count": 22,
   "id": "fae14f5b",
   "metadata": {},
   "outputs": [],
   "source": [
    "from qiskit_metal.analyses.simulation import ScatteringImpedanceSim\n",
    "em1 = ScatteringImpedanceSim(design, \"hfss\")"
   ]
  },
  {
   "cell_type": "code",
   "execution_count": 23,
   "id": "e652d20b",
   "metadata": {},
   "outputs": [],
   "source": [
    "design_name= \"Sweep_DrivenModal\"\n",
    "qcomp_render = [] # Means to render everything in qgeometry table.\n",
    "open_terminations = []\n",
    "\n",
    "# Here, pin LP1_in and LP2_in are converted into lumped ports,\n",
    "#           each with an impedance of 50 Ohms. <br>\n",
    "port_list = [('LP1', 'in', 50),\n",
    "             ('LP2', 'in', 50)]\n",
    "box_plus_buffer = True"
   ]
  },
  {
   "cell_type": "code",
   "execution_count": 24,
   "id": "343f9109",
   "metadata": {},
   "outputs": [
    {
     "name": "stderr",
     "output_type": "stream",
     "text": [
      "INFO 09:42AM [connect_project]: Connecting to Ansys Desktop API...\n",
      "INFO 09:42AM [load_ansys_project]: \tOpened Ansys App\n",
      "INFO 09:42AM [load_ansys_project]: \tOpened Ansys Desktop v2018.0.0\n",
      "INFO 09:42AM [load_ansys_project]: \tOpened Ansys Project\n",
      "\tFolder:    C:/Users/Quantum Circuits IB/Documents/Ansoft/\n",
      "\tProject:   Project14\n",
      "INFO 09:42AM [connect_design]: No active design found (or error getting active design).\n",
      "INFO 09:42AM [connect]: \t Connected to project \"Project14\". No design detected\n"
     ]
    },
    {
     "data": {
      "text/plain": [
       "True"
      ]
     },
     "execution_count": 24,
     "metadata": {},
     "output_type": "execute_result"
    }
   ],
   "source": [
    "# we use HFSS as rendere\n",
    "hfss = em1.renderer\n",
    "hfss.start()"
   ]
  },
  {
   "cell_type": "code",
   "execution_count": 25,
   "id": "f26fc3b5",
   "metadata": {
    "scrolled": true
   },
   "outputs": [
    {
     "name": "stderr",
     "output_type": "stream",
     "text": [
      "09:42AM 49s WARNING [activate_ansys_design]: The design_name=version_4a was not in active project.  Designs in active project are: \n",
      "[].  A new design will be added to the project.  \n",
      "INFO 09:42AM [connect_design]: \tOpened active design\n",
      "\tDesign:    version_4a [Solution type: DrivenModal]\n",
      "WARNING 09:42AM [connect_setup]: \tNo design setup detected.\n",
      "WARNING 09:42AM [connect_setup]: \tCreating driven modal default setup.\n",
      "INFO 09:42AM [get_setup]: \tOpened setup `Setup`  (<class 'pyEPR.ansys.HfssDMSetup'>)\n",
      "09:42AM 53s WARNING [edit_drivenmodal_setup]: In setup_args, key=max_delta_s, value=0.02 is not in pinfo.setup, the key/value pair from setup_args not added to Setup in Ansys.\n",
      "09:42AM 53s WARNING [edit_drivenmodal_setup]: The value for freq_ghz should be an float. The present value is 4.\n",
      "09:42AM 53s WARNING [edit_drivenmodal_setup]: In setup_args, key=freq_ghz, value=4 is not in pinfo.setup, the key/value pair from setup_args not added to Setup in Ansys.\n"
     ]
    }
   ],
   "source": [
    "# Here we activate the design for a drivenmodal solution\n",
    "hfss.activate_ansys_design(\"version_4a\", 'drivenmodal')\n",
    "setup_args = Dict(max_delta_s=0.02, freq_ghz=4, max_passes=8)\n",
    "setup_args.name = 'Setup'\n",
    "hfss.edit_drivenmodal_setup(setup_args)"
   ]
  },
  {
   "cell_type": "code",
   "execution_count": 26,
   "id": "19bcda78-cf03-4ed4-9b21-c80090406f49",
   "metadata": {},
   "outputs": [
    {
     "data": {
      "text/plain": [
       "{'name': 'Setup',\n",
       " 'reuse_selected_design': True,\n",
       " 'reuse_setup': True,\n",
       " 'freq_ghz': 5,\n",
       " 'max_delta_s': 0.1,\n",
       " 'max_passes': 10,\n",
       " 'min_passes': 1,\n",
       " 'min_converged': 1,\n",
       " 'pct_refinement': 30,\n",
       " 'basis_order': 1,\n",
       " 'vars': {'Lj': '10 nH', 'Cj': '0 fF'},\n",
       " 'sweep_setup': {'name': 'Sweep',\n",
       "  'start_ghz': 2.0,\n",
       "  'stop_ghz': 8.0,\n",
       "  'count': 101,\n",
       "  'step_ghz': None,\n",
       "  'type': 'Fast',\n",
       "  'save_fields': False}}"
      ]
     },
     "execution_count": 26,
     "metadata": {},
     "output_type": "execute_result"
    }
   ],
   "source": [
    "em1.setup"
   ]
  },
  {
   "cell_type": "code",
   "execution_count": 27,
   "id": "cf19f4e6",
   "metadata": {},
   "outputs": [],
   "source": [
    "# set buffer: espacio alrededor de la geometría que está siendo simulada\n",
    "hfss.options['x_buffer_width_mm'] = 0.2\n",
    "hfss.options['y_buffer_width_mm'] = 0.2"
   ]
  },
  {
   "cell_type": "code",
   "execution_count": 28,
   "id": "9e8ab762",
   "metadata": {},
   "outputs": [],
   "source": [
    "# clean the design if needed\n",
    "hfss.clean_active_design()"
   ]
  },
  {
   "cell_type": "code",
   "execution_count": 29,
   "id": "5e64d681",
   "metadata": {},
   "outputs": [],
   "source": [
    "# render the design\n",
    "hfss.render_design(selection=[], \n",
    "                   open_pins=open_terminations, \n",
    "                   port_list=port_list, \n",
    "                   box_plus_buffer = box_plus_buffer)"
   ]
  },
  {
   "cell_type": "code",
   "execution_count": 65,
   "id": "942ba69f",
   "metadata": {},
   "outputs": [],
   "source": [
    "# # # for acurate simulations, make sure the mesh is fine enough for the meander\n",
    "# hfss.modeler.mesh_length(\n",
    "#                 'ground_mesh',\n",
    "#                 ['ground_main_plane','trace_linea_1', 'trace_linea_4','prime_cpw_Capacitor_1'],\n",
    "#                 MaxLength='0.02mm')"
   ]
  },
  {
   "cell_type": "code",
   "execution_count": 66,
   "id": "36b0cf40-a659-4cd2-bdd3-d79e460dc78e",
   "metadata": {},
   "outputs": [],
   "source": [
    "# hfss.modeler.mesh_length(\n",
    "#                 'cpw_mesh',\n",
    "#                 ['trace_meandro_1', 'second_cpw_Capacitor_1', 'prime_cpw_Capacitor_1'],\n",
    "#                 MaxLength='0.010mm')"
   ]
  },
  {
   "cell_type": "code",
   "execution_count": 30,
   "id": "4ef343c7",
   "metadata": {},
   "outputs": [],
   "source": [
    "hfss.modeler.mesh_length(\n",
    "                'cpw_mesh',\n",
    "                ['trace_meandro_1', 'second_cpw_Capacitor_1'],\n",
    "                MaxLength='0.010mm')"
   ]
  },
  {
   "cell_type": "code",
   "execution_count": 31,
   "id": "f95d2fc2",
   "metadata": {},
   "outputs": [
    {
     "name": "stderr",
     "output_type": "stream",
     "text": [
      "INFO 09:44AM [get_setup]: \tOpened setup `Setup`  (<class 'pyEPR.ansys.HfssDMSetup'>)\n"
     ]
    },
    {
     "data": {
      "text/plain": [
       "<pyEPR.ansys.HfssFrequencySweep at 0x18c2576f6d0>"
      ]
     },
     "execution_count": 31,
     "metadata": {},
     "output_type": "execute_result"
    }
   ],
   "source": [
    "## usando un step se recomienda que sea 1/10 el ancho de banda.\n",
    "## para una simulacion, el sweep debe contener a la frecuencia de resonancia\n",
    "hfss.add_sweep(setup_name=\"Setup\", \n",
    "               name=\"Sweep_in\", \n",
    "               start_ghz=3.8,\n",
    "               stop_ghz=4.2,\n",
    "               count=200,\n",
    "               type=\"Fast\")"
   ]
  },
  {
   "cell_type": "code",
   "execution_count": null,
   "id": "f26924fd-2fc0-4b31-8ebf-d40cdb5a01e2",
   "metadata": {},
   "outputs": [],
   "source": []
  },
  {
   "cell_type": "markdown",
   "id": "d8c140d5",
   "metadata": {},
   "source": [
    "# GDS file"
   ]
  },
  {
   "cell_type": "code",
   "execution_count": null,
   "id": "eeabb209",
   "metadata": {},
   "outputs": [],
   "source": [
    "a_gds = design.renderers.gds\n",
    "### import and place the cell names in the Fake_Junctions\n",
    "a_gds.options['path_filename'] = 'Fake_Junctions.GDS'"
   ]
  },
  {
   "cell_type": "code",
   "execution_count": null,
   "id": "46a8c7bb",
   "metadata": {},
   "outputs": [],
   "source": [
    "### import and place the cell names in the Fake_Junctions\n",
    "a_gds.options['path_filename'] = '../code_qm/Fake_Junctions.GDS'"
   ]
  },
  {
   "cell_type": "code",
   "execution_count": null,
   "id": "89f18ad9",
   "metadata": {},
   "outputs": [],
   "source": [
    "## for fillet the short segments, True means no fillet\n",
    "a_gds.options['short_segments_to_not_fillet'] = 'False'\n",
    "\n",
    "scale_fillet = 2.0\n",
    "a_gds.options['check_short_segments_by_scaling_fillet'] = scale_fillet"
   ]
  },
  {
   "cell_type": "code",
   "execution_count": null,
   "id": "6dbb0100",
   "metadata": {},
   "outputs": [],
   "source": [
    "# Restore a_gds options\n",
    "\n",
    "a_gds.options.no_cheese['view_in_file']['main']={1: False}\n",
    "a_gds.options.cheese['view_in_file']['main']={1: False}\n",
    "a_gds.options['max_points'] = '8191'\n",
    "a_gds.options['no_cheese']['buffer']='50um'\n",
    "# We will shift the center of the chip to origin\n",
    "\n",
    "design.chips.main.size['center_x'] = '2.0mm'\n",
    "design.chips.main.size['center_y'] = '1.5mm'\n",
    "design.rebuild()\n",
    "\n",
    "### For demo, set max_points to 8191 and look at the GDS output.\n",
    "a_gds.options['max_points'] = '8191'\n",
    "\n",
    "# We next export it to GDS\n",
    "\n",
    "design.renderers.gds.export_to_gds(\"res4gc430_gds.gds\")"
   ]
  },
  {
   "cell_type": "code",
   "execution_count": null,
   "id": "6b7596bf",
   "metadata": {},
   "outputs": [],
   "source": [
    "#Many ways to view the QGeometry tables.\n",
    "#If you want to view, uncomment below lines and and run it.\n",
    "\n",
    "design.qgeometry.tables\n",
    "# design.qgeometry.tables['path']\n",
    "# design.qgeometry.tables['poly']"
   ]
  },
  {
   "cell_type": "code",
   "execution_count": null,
   "id": "a8e2c761-88c8-4392-adcf-f61cd7e232c1",
   "metadata": {},
   "outputs": [],
   "source": []
  }
 ],
 "metadata": {
  "kernelspec": {
   "display_name": "Python 3 (ipykernel)",
   "language": "python",
   "name": "python3"
  },
  "language_info": {
   "codemirror_mode": {
    "name": "ipython",
    "version": 3
   },
   "file_extension": ".py",
   "mimetype": "text/x-python",
   "name": "python",
   "nbconvert_exporter": "python",
   "pygments_lexer": "ipython3",
   "version": "3.10.11"
  },
  "latex_envs": {
   "LaTeX_envs_menu_present": true,
   "autoclose": false,
   "autocomplete": true,
   "bibliofile": "biblio.bib",
   "cite_by": "apalike",
   "current_citInitial": 1,
   "eqLabelWithNumbers": true,
   "eqNumInitial": 1,
   "hotkeys": {
    "equation": "Ctrl-E",
    "itemize": "Ctrl-I"
   },
   "labels_anchors": false,
   "latex_user_defs": false,
   "report_style_numbering": false,
   "user_envs_cfg": false
  },
  "toc": {
   "base_numbering": 1,
   "nav_menu": {},
   "number_sections": true,
   "sideBar": true,
   "skip_h1_title": false,
   "title_cell": "Table of Contents",
   "title_sidebar": "Contents",
   "toc_cell": false,
   "toc_position": {},
   "toc_section_display": true,
   "toc_window_display": false
  }
 },
 "nbformat": 4,
 "nbformat_minor": 5
}
