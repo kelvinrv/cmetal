{
 "cells": [
  {
   "cell_type": "markdown",
   "id": "35d27b44",
   "metadata": {},
   "source": [
    "# Resonador A y B acoplado a una linea de transmision\n",
    "\n",
    "Authors: Kelvin Ramos\n",
    "Description: Resonador A fijado y variando la frecuencia del resonador B \n"
   ]
  },
  {
   "cell_type": "code",
   "execution_count": 1,
   "id": "0b0da17a",
   "metadata": {},
   "outputs": [],
   "source": [
    "# Import useful packages\n",
    "import qiskit_metal as metal\n",
    "from qiskit_metal import designs, draw\n",
    "from qiskit_metal import MetalGUI, Dict, open_docs\n",
    "from qiskit_metal.toolbox_metal import math_and_overrides\n",
    "from qiskit_metal.qlibrary.core import QComponent\n",
    "from collections import OrderedDict\n",
    "\n",
    "# To create plots after geting solution data.\n",
    "import matplotlib.pyplot as plt\n",
    "import numpy as np\n",
    "\n",
    "# Packages for the simple design\n",
    "from qiskit_metal.qlibrary.tlines.meandered import RouteMeander\n",
    "from qiskit_metal.qlibrary.tlines.pathfinder import RoutePathfinder\n",
    "from qiskit_metal.qlibrary.terminations.launchpad_wb_driven import LaunchpadWirebondDriven\n",
    "from qiskit_metal.qlibrary.terminations.open_to_ground import OpenToGround\n",
    "from qiskit_metal.qlibrary.terminations.short_to_ground import ShortToGround\n",
    "from qiskit_metal.qlibrary.couplers.coupled_line_tee import CoupledLineTee\n"
   ]
  },
  {
   "cell_type": "markdown",
   "id": "c6e244f8",
   "metadata": {},
   "source": [
    "# Function to find the length of lines"
   ]
  },
  {
   "cell_type": "code",
   "execution_count": 2,
   "id": "c9fd5e22-443b-4eb2-9b2f-840b6594d2b1",
   "metadata": {},
   "outputs": [],
   "source": [
    "from scipy.constants import c"
   ]
  },
  {
   "cell_type": "code",
   "execution_count": 3,
   "id": "a2c10fef",
   "metadata": {},
   "outputs": [
    {
     "name": "stdout",
     "output_type": "stream",
     "text": [
      "resonator length l=5.902146 mm for frequency f0=5.00001 GHz\n"
     ]
    }
   ],
   "source": [
    "### f is float in GHz\n",
    "def leng(f):\n",
    "    f2=f*1e9 ## to GHz\n",
    "    eff=(11.9+1)/2\n",
    "    le=c/(4*np.sqrt(eff)*f2)\n",
    "    le=le*1e3 # to milimeters\n",
    "    return print(r'resonator length l={:.6f} mm for frequency f0={} GHz'.format(le,f))\n",
    "leng(5.00001)"
   ]
  },
  {
   "cell_type": "code",
   "execution_count": 4,
   "id": "90188593",
   "metadata": {},
   "outputs": [],
   "source": [
    "# freq=np.array([6e9,7e9,8e9]) \n",
    "# for i in range(len(freq)):\n",
    "#     z=leng(freq[i])\n",
    "#     print(freq[i]*1e-9,'GHz,', z*1e3, 'mm')"
   ]
  },
  {
   "cell_type": "markdown",
   "id": "794b6f3d",
   "metadata": {},
   "source": [
    "# Chip design\n",
    "\n",
    "Our chip design has a size of 3mm x 10mm with 200um of substrate. The dimensions of the cpw are: width=20um and gap=11um."
   ]
  },
  {
   "cell_type": "code",
   "execution_count": 4,
   "id": "3983eac9",
   "metadata": {},
   "outputs": [],
   "source": [
    "# Set up chip dimensions \n",
    "design = designs.DesignPlanar()\n",
    "design._chips['main']['size']['size_x'] = '6mm'\n",
    "design._chips['main']['size']['size_y'] = '3mm'\n",
    "design._chips['main']['size']['size_z'] = '-400um'\n",
    "# design._chips['main']['size']['center_x'] = '0mm'\n",
    "# design._chips['main']['size']['center_y'] = '0mm'\n",
    "\n",
    "# Resonator and feedline gap width (W) and center conductor width (S) from reference 2\n",
    "design.variables['cpw_width'] = '20um' #S from reference 2\n",
    "design.variables['cpw_gap'] = '11um' #W from reference 2\n",
    "\n",
    "\n",
    "design.overwrite_enabled = True\n",
    "\n",
    "hfss = design.renderers.hfss\n",
    "\n",
    "# Open GUI\n",
    "gui = MetalGUI(design)"
   ]
  },
  {
   "cell_type": "markdown",
   "id": "055c0bef",
   "metadata": {},
   "source": [
    "# Define the geometry\n",
    "\n",
    "Here we will have a single feedline couple to 3 CPW resonators.\n",
    "\n",
    "We need 2 lauchpads, 3 capacitors, 3 transmission lines and 3 short terminals"
   ]
  },
  {
   "cell_type": "markdown",
   "id": "8bfcfe81",
   "metadata": {},
   "source": [
    "## Capacitors\n",
    "The coupling length of our capacitors should be 115um, 102um and 85um for a resonance frequency of 6.6 GHz, 7.4 GHz and 8.45 GHz, respectively. "
   ]
  },
  {
   "cell_type": "code",
   "execution_count": 5,
   "id": "38bcc8f3-44a2-4d1f-a650-d929b8baf11b",
   "metadata": {},
   "outputs": [],
   "source": [
    "### position\n",
    "\n",
    "########  CAPACITORS\n",
    "\n",
    "yy_pos='1.5mm'   #capacitors' location\n",
    "xx_1, xx_2 = '1.0mm', '3.5mm'\n",
    "\n",
    "##### same parameters\n",
    "\n",
    "general=dict(prime_width='20um', prime_gap='11um', second_width='20um', \n",
    "             second_gap='11um', down_length='100um', fillet='90um', \n",
    "             hfss_wire_bonds=True, coupling_space='10um' )\n"
   ]
  },
  {
   "cell_type": "code",
   "execution_count": 6,
   "id": "a383eaae-8f36-4a16-893d-ef2771fe4bda",
   "metadata": {},
   "outputs": [
    {
     "data": {
      "text/plain": [
       "array([244.5, 244.5])"
      ]
     },
     "execution_count": 6,
     "metadata": {},
     "output_type": "execute_result"
    }
   ],
   "source": [
    "couplings=np.array([154.5 ,154.5]) ## factor de calidad 30K\n",
    "fill=90\n",
    "ad_coupl=fill+couplings\n",
    "ad_coupl\n"
   ]
  },
  {
   "cell_type": "code",
   "execution_count": 7,
   "id": "39edaee9",
   "metadata": {},
   "outputs": [],
   "source": [
    "###======================================================================\n",
    "##### In our first experience, we have the following parameters\n",
    "\n",
    "### for coupling_length=125um -> 75um,for 112um -> 62um, for 95um-> 45um\n",
    "###\n",
    "\n",
    "### so we need to add the fillet length to our coupling length\n",
    "###======================================================================\n",
    "##### lc=115um+90um\n",
    "\n",
    "ubia=dict(pos_x=xx_1, pos_y=yy_pos, coupling_length='244.5um',\n",
    "         gds_cell_name='cap_a',**general)\n",
    "\n",
    "##### lc=102um+50um\n",
    "ubib=dict(pos_x=xx_2, pos_y=yy_pos, coupling_length='244.5um',\n",
    "          gds_cell_name='cap_b', **general)\n",
    "\n",
    "Capacitora = CoupledLineTee(design, 'Capacitora', options=ubia)\n",
    "Capacitorb = CoupledLineTee(design, 'Capacitorb', options=ubib)\n",
    "\n",
    "gui.rebuild()\n",
    "gui.autoscale()"
   ]
  },
  {
   "cell_type": "markdown",
   "id": "593ea8c1",
   "metadata": {},
   "source": [
    "# Launchpads\n",
    "The more consistent parameter for the launchpads are width=120um and gap=61um. So that we have 50 Ohm"
   ]
  },
  {
   "cell_type": "code",
   "execution_count": 8,
   "id": "a96e4d33-6776-445c-b375-2f1bde9ac724",
   "metadata": {},
   "outputs": [],
   "source": [
    "########### Launchpads position\n",
    "\n",
    "# Driven Lauchpad 1\n",
    "\n",
    "x1 = '-0.2mm'  ## 0.0\n",
    "y1 = yy_pos\n",
    "\n",
    "# Driven Launchpad 2\n",
    "x2 = '4.7mm'\n",
    "y2 = yy_pos ## 2.8\n",
    "\n",
    "general_2=dict(lead_length='10um', pad_width='120um', pad_gap='61um', \n",
    "               trace_width='20um', trace_gap='11um' )"
   ]
  },
  {
   "cell_type": "code",
   "execution_count": 9,
   "id": "ef570ed8",
   "metadata": {},
   "outputs": [],
   "source": [
    "###################\n",
    "# Single feedline #\n",
    "###################\n",
    "\n",
    "\n",
    "ops_1 = Dict(chip='main', pos_x=x1, pos_y=y1, orientation='360',\n",
    "             gds_cell_name='LP1', **general_2)\n",
    "\n",
    "LP1 = LaunchpadWirebondDriven(design, 'LP1', options = ops_1)\n",
    "\n",
    "\n",
    "ops_2 = Dict(chip='main', pos_x=x2, pos_y=y2, orientation='180',  \n",
    "            gds_cell_name='LP2', **general_2)\n",
    "\n",
    "LP2 = LaunchpadWirebondDriven(design, 'LP2', options = ops_2)\n",
    "\n",
    "\n",
    "# Rebuild the GUI\n",
    "gui.rebuild()\n",
    "gui.autoscale()"
   ]
  },
  {
   "cell_type": "code",
   "execution_count": 10,
   "id": "e2318b20",
   "metadata": {},
   "outputs": [
    {
     "data": {
      "text/plain": [
       "{'prime_end', 'prime_start', 'second_end'}"
      ]
     },
     "execution_count": 10,
     "metadata": {},
     "output_type": "execute_result"
    }
   ],
   "source": [
    "Capacitora.pin_names"
   ]
  },
  {
   "cell_type": "markdown",
   "id": "f2c105d8",
   "metadata": {},
   "source": [
    "# Transmission lines\n",
    "Here we connect the capacitors with the launchpads"
   ]
  },
  {
   "cell_type": "code",
   "execution_count": 11,
   "id": "6182b555-4562-4d58-8e8f-394f5d5a6dee",
   "metadata": {},
   "outputs": [],
   "source": [
    "general_3 =  dict(trace_width ='20um', trace_gap ='11um', fillet='99um',\n",
    "                  hfss_wire_bonds = True )"
   ]
  },
  {
   "cell_type": "code",
   "execution_count": 12,
   "id": "e9fa20dd",
   "metadata": {},
   "outputs": [],
   "source": [
    "# Using path finder to connect the two launchpads\n",
    "# Using path finder to connect the two launchpads\n",
    "\n",
    "\n",
    "#### LP1 capacitor A\n",
    "ops_linea_a= Dict(chip='main', gds_cell_name='linea',\n",
    "                lead=Dict(end_straight='0.0mm'),\n",
    "                pin_inputs=Dict(start_pin=Dict(component='LP1',\n",
    "                                                    pin='tie'),\n",
    "                                                end_pin=Dict(\n",
    "                                                    component='Capacitora',\n",
    "                                                    pin='prime_start')\n",
    "                                            ), **general_3)\n",
    "\n",
    "linea_a = RoutePathfinder(design, 'linea_a', options = ops_linea_a)\n",
    "\n",
    "\n",
    "### capacitor A - capacitor B\n",
    "\n",
    "ops_linea_b = Dict(chip='main', gds_cell_name='lineaa',\n",
    "                  lead=Dict(end_straight='0.0mm'),\n",
    "                  pin_inputs=Dict(      start_pin=Dict(\n",
    "                                                    component='Capacitora',\n",
    "                                                    pin='prime_end'),\n",
    "                                        end_pin=Dict(\n",
    "                                                    component='Capacitorb',\n",
    "                                                    pin='prime_start')\n",
    "                                            ), **general_3)\n",
    "\n",
    "\n",
    "linea_b = RoutePathfinder(design, 'linea_b', options = ops_linea_b)\n",
    "\n",
    "\n",
    "\n",
    "\n",
    "#### LP2-capacitor B\n",
    "ops_lineab=Dict(chip='main', gds_cell_name='lineac',\n",
    "                                            lead=Dict(end_straight='0.0mm'),\n",
    "                                            pin_inputs=Dict(\n",
    "                                                start_pin=Dict(\n",
    "                                                    component='Capacitorb',\n",
    "                                                    pin='prime_end'),\n",
    "                                                end_pin=Dict(\n",
    "                                                    component='LP2',\n",
    "                                                    pin='tie')\n",
    "                                            ), **general_3)\n",
    "\n",
    "lineab = RoutePathfinder(design, 'lineab', options = ops_lineab)\n",
    "\n",
    "\n",
    "\n",
    "# Rebuild the GUI\n",
    "gui.rebuild()\n",
    "gui.autoscale()"
   ]
  },
  {
   "cell_type": "markdown",
   "id": "3665b798",
   "metadata": {},
   "source": [
    "# Resonators\n",
    "The resonators are lambda/4 and each of them has a length of 4.5mm, 4.0mm  and 3.5mm.  "
   ]
  },
  {
   "cell_type": "code",
   "execution_count": 13,
   "id": "f9ddaa9f-8131-4bb0-a620-57266e01d43d",
   "metadata": {},
   "outputs": [],
   "source": [
    "general_4= dict(trace_width ='20um', trace_gap ='11um', hfss_wire_bonds = True, fillet='90 um')"
   ]
  },
  {
   "cell_type": "code",
   "execution_count": 17,
   "id": "91ec3972-4858-42db-8b62-b266b928c89c",
   "metadata": {},
   "outputs": [
    {
     "name": "stdout",
     "output_type": "stream",
     "text": [
      "resonator length l=5.902158 mm for frequency f0=5.0 GHz\n",
      "resonator length l=5.901686 mm for frequency f0=5.0004 GHz\n"
     ]
    }
   ],
   "source": [
    "frequ=np.array([5.0, 5.0004])\n",
    "for i in frequ:\n",
    "    leng(i)"
   ]
  },
  {
   "cell_type": "code",
   "execution_count": 16,
   "id": "fb441d31-12ec-4876-a54d-a2174f72897d",
   "metadata": {},
   "outputs": [
    {
     "data": {
      "text/plain": [
       "array([244.5, 244.5])"
      ]
     },
     "execution_count": 16,
     "metadata": {},
     "output_type": "execute_result"
    }
   ],
   "source": [
    "ad_coupl"
   ]
  },
  {
   "cell_type": "code",
   "execution_count": 18,
   "id": "827e3023-522e-4f66-bac7-f40c1ae9712e",
   "metadata": {},
   "outputs": [],
   "source": [
    "len_true=[5.9022,5.901686]"
   ]
  },
  {
   "cell_type": "code",
   "execution_count": 19,
   "id": "8d613ad4-06c8-485b-ab81-4d22bf9f6c20",
   "metadata": {},
   "outputs": [
    {
     "data": {
      "text/plain": [
       "array([5.6577  , 5.657186])"
      ]
     },
     "execution_count": 19,
     "metadata": {},
     "output_type": "execute_result"
    }
   ],
   "source": [
    "len_true-ad_coupl*1e-3"
   ]
  },
  {
   "cell_type": "code",
   "execution_count": 20,
   "id": "92b1570a",
   "metadata": {},
   "outputs": [],
   "source": [
    "######################\n",
    "# lambda/4 resonator #\n",
    "######################\n",
    "\n",
    "# First we define the two end-points\n",
    "#otg1 = OpenToGround(design, 'otg1', options=Dict(chip='main', pos_x='2.0 mm',  pos_y='2.748', orientation='-180',\n",
    "                                                 #width='20um', gap='11um', termination_gap='11 um'))\n",
    "yy_fin='0.15mm'\n",
    "\n",
    "otg2_a = ShortToGround(design, 'otg2_a', options=Dict(chip='main', pos_x='1.0 mm',  pos_y=yy_fin, orientation='0'))\n",
    "##============================================\n",
    "#otg1a = OpenToGround(design, 'otg1a', options=Dict(chip='main', pos_x='4.5mm',  pos_y='2.748mm', orientation='180',\n",
    "                                                   #width='20um', gap='11um', termination_gap='11 um'))\n",
    "otg2_b = ShortToGround(design, 'otg2_b', options=Dict(chip='main', pos_x='3.5mm',  pos_y=yy_fin, orientation='0'))\n",
    "##=============================================\n",
    "# = OpenToGround(design, 'otg1b', options=Dict(chip='main', pos_x='7.0mm',  pos_y='2.748mm', orientation='180', \n",
    "                                                   #width='20um', gap='11um', termination_gap='11 um'))\n",
    "\n",
    "\n",
    "# Use RouteMeander to fix the total length of the resonator\n",
    "####===================================================================================\n",
    "\n",
    "ops_meandro_A= Dict(chip='main', total_length='5.6577mm', gds_cell_name='meandro',\n",
    "                  lead = Dict(start_straight='400um', end_straight='100um'), \n",
    "                  meander=Dict(spacing='250um', asymmetry='0um'),\n",
    "                  pin_inputs=Dict(\n",
    "                              start_pin=Dict(component='Capacitora', pin='second_end'),\n",
    "                              end_pin=Dict(component='otg2_a', pin='short')), **general_4)\n",
    "\n",
    "meandro_A = RouteMeander(design, 'meandro_A',  options=ops_meandro_A)\n",
    "\n",
    "#####===================================================================================\n",
    "\n",
    "ops_meandro_B=Dict(chip='main', total_length='5.657186mm', gds_cell_name='meandroa', \n",
    "        lead = Dict(start_straight='400um', end_straight='100um'),\n",
    "        meander=Dict(spacing='250um', asymmetry='0um'),\n",
    "        pin_inputs=Dict(\n",
    "            start_pin=Dict(component='Capacitorb', pin='second_end'),\n",
    "            end_pin=Dict(component='otg2_b', pin='short')), **general_4)\n",
    "\n",
    "meandro_B = RouteMeander(design, 'meandro_B',  options=ops_meandro_B)\n",
    "\n",
    "\n",
    "\n",
    "# rebuild the GUI\n",
    "gui.rebuild()\n",
    "gui.autoscale()"
   ]
  },
  {
   "cell_type": "code",
   "execution_count": 304,
   "id": "9956dd38",
   "metadata": {},
   "outputs": [
    {
     "data": {
      "image/png": "[encoded data removed]",
      "text/plain": [
       "<IPython.core.display.Image object>"
      ]
     },
     "metadata": {
      "image/png": {
       "width": 500
      }
     },
     "output_type": "display_data"
    }
   ],
   "source": [
    "gui.autoscale()\n",
    "gui.screenshot()\n"
   ]
  },
  {
   "cell_type": "markdown",
   "id": "0972e9ad",
   "metadata": {},
   "source": [
    "# Export Gds"
   ]
  },
  {
   "cell_type": "code",
   "execution_count": 73,
   "id": "14e7e5d9-031d-4915-9fdb-0922a628f062",
   "metadata": {},
   "outputs": [],
   "source": [
    "a_gds = design.renderers.gds\n",
    "### import and place the cell names in the Fake_Junctions\n",
    "a_gds.options['path_filename'] = 'Fake_Junctions.GDS'"
   ]
  },
  {
   "cell_type": "code",
   "execution_count": 74,
   "id": "da5fce19",
   "metadata": {},
   "outputs": [],
   "source": [
    "## for fillet the short segments, True means no fillet\n",
    "a_gds.options['short_segments_to_not_fillet'] = 'False'\n",
    "\n",
    "scale_fillet = 2.0\n",
    "a_gds.options['check_short_segments_by_scaling_fillet'] = scale_fillet"
   ]
  },
  {
   "cell_type": "code",
   "execution_count": 75,
   "id": "5a2427b8",
   "metadata": {},
   "outputs": [
    {
     "data": {
      "text/plain": [
       "1"
      ]
     },
     "execution_count": 75,
     "metadata": {},
     "output_type": "execute_result"
    }
   ],
   "source": [
    "# Restore a_gds options\n",
    "\n",
    "a_gds.options.no_cheese['view_in_file']['main']={1: False}\n",
    "a_gds.options.cheese['view_in_file']['main']={1: False}\n",
    "a_gds.options['max_points'] = '8191'\n",
    "a_gds.options['no_cheese']['buffer']='50um'\n",
    "# We will shift the center of the chip to origin\n",
    "\n",
    "design.chips.main.size['center_x'] = '5.0mm'\n",
    "design.chips.main.size['center_y'] = '1.5mm'\n",
    "design.rebuild()\n",
    "\n",
    "### For demo, set max_points to 8191 and look at the GDS output.\n",
    "a_gds.options['max_points'] = '8191'\n",
    "\n",
    "# We next export it to GDS\n",
    "\n",
    "design.renderers.gds.export_to_gds(\"7c7d4c8d5Gcq100K.gds\")"
   ]
  },
  {
   "cell_type": "code",
   "execution_count": 33,
   "id": "1b81cb78-8260-4cac-aecd-546d15e14825",
   "metadata": {},
   "outputs": [],
   "source": [
    "#Many ways to view the QGeometry tables.\n",
    "#If you want to view, uncomment below lines and and run it.\n",
    "\n",
    "#design.qgeometry.tables\n",
    "#design.qgeometry.tables['path']\n",
    "#design.qgeometry.tables['poly']"
   ]
  },
  {
   "cell_type": "markdown",
   "id": "df24e487-659c-414c-8e7c-8dba4bcab269",
   "metadata": {},
   "source": [
    "# EPR"
   ]
  },
  {
   "cell_type": "code",
   "execution_count": 344,
   "id": "677dd488-95c9-4b3f-af72-802e7be428a6",
   "metadata": {},
   "outputs": [],
   "source": [
    "from qiskit_metal.analyses.quantization import EPRanalysis\n",
    "eig_res = EPRanalysis(design, \"hfss\")"
   ]
  },
  {
   "cell_type": "code",
   "execution_count": 345,
   "id": "b32edf9d-4b69-4ec1-b7bd-0495e0958576",
   "metadata": {},
   "outputs": [],
   "source": [
    "hfss = eig_res.sim.renderer"
   ]
  },
  {
   "cell_type": "code",
   "execution_count": 346,
   "id": "e78797ab-c886-4400-8135-4274b18d0549",
   "metadata": {},
   "outputs": [
    {
     "name": "stderr",
     "output_type": "stream",
     "text": [
      "INFO 02:32PM [connect_project]: Connecting to Ansys Desktop API...\n",
      "INFO 02:32PM [load_ansys_project]: \tOpened Ansys App\n",
      "INFO 02:32PM [load_ansys_project]: \tOpened Ansys Desktop v2018.0.0\n",
      "INFO 02:32PM [load_ansys_project]: \tOpened Ansys Project\n",
      "\tFolder:    C:/Users/Quantum Circuits IB/Documents/Kelvin/qiskit-metal/qmetal/simu/resonator/code_qm/5GHz/data/\n",
      "\tProject:   Triple\n",
      "INFO 02:32PM [connect_design]: \tOpened active design\n",
      "\tDesign:    Rs_AB [Solution type: Eigenmode]\n",
      "INFO 02:32PM [get_setup]: \tOpened setup `Setup`  (<class 'pyEPR.ansys.HfssEMSetup'>)\n",
      "INFO 02:32PM [connect]: \tConnected to project \"Triple\" and design \"Rs_AB\" 😀 \n",
      "\n"
     ]
    },
    {
     "data": {
      "text/plain": [
       "True"
      ]
     },
     "execution_count": 346,
     "metadata": {},
     "output_type": "execute_result"
    }
   ],
   "source": [
    "hfss.start() ## start hfss"
   ]
  },
  {
   "cell_type": "code",
   "execution_count": 347,
   "id": "515e9023-ad22-4abd-a2c1-84fbe5a935f4",
   "metadata": {},
   "outputs": [],
   "source": [
    "# clean the design if needed\n",
    "hfss.clean_active_design()"
   ]
  },
  {
   "cell_type": "code",
   "execution_count": 348,
   "id": "7f5cc70c-0a33-4f3b-a0cc-2b3464420699",
   "metadata": {},
   "outputs": [
    {
     "name": "stderr",
     "output_type": "stream",
     "text": [
      "INFO 02:32PM [connect_design]: \tOpened active design\n",
      "\tDesign:    Rs_AB [Solution type: Eigenmode]\n"
     ]
    }
   ],
   "source": [
    "hfss.activate_ansys_design(\"Rs_AB\", 'eigenmode')  # use new_ansys_design() to force creation of a blank design"
   ]
  },
  {
   "cell_type": "code",
   "execution_count": 349,
   "id": "e11a5379-18a4-462d-b685-704a6a525bf6",
   "metadata": {},
   "outputs": [],
   "source": [
    "hfss.render_design([], [])\n",
    "#hfss.save_screenshot()"
   ]
  },
  {
   "cell_type": "code",
   "execution_count": 350,
   "id": "73d31e11-5585-4526-8c83-edaae81ff30c",
   "metadata": {},
   "outputs": [
    {
     "name": "stdout",
     "output_type": "stream",
     "text": [
      "\n",
      "Number of eigenmodes to find             = 1\n",
      "Number of simulation passes              = 10\n",
      "Convergence freq max delta percent diff  = 0.1\n",
      "\n"
     ]
    },
    {
     "name": "stderr",
     "output_type": "stream",
     "text": [
      "INFO 02:33PM [analyze]: Analyzing setup Setup\n"
     ]
    }
   ],
   "source": [
    "# Analysis properties\n",
    "setup = hfss.pinfo.setup\n",
    "setup.passes = 10\n",
    "#setup.delta_f=0.01\n",
    "print(f\"\"\"\n",
    "Number of eigenmodes to find             = {setup.n_modes}\n",
    "Number of simulation passes              = {setup.passes}\n",
    "Convergence freq max delta percent diff  = {setup.delta_f}\n",
    "\"\"\")\n",
    "\n",
    "# Next 2 lines are counterinuitive, since there is no junction in this resonator.\n",
    "# However, these are necessary to make pyEPR work correctly. Please do note delete\n",
    "hfss.pinfo.design.set_variable('Lj', '10 nH')\n",
    "hfss.pinfo.design.set_variable('Cj', '0 fF')\n",
    "setup.analyze()"
   ]
  },
  {
   "cell_type": "code",
   "execution_count": 351,
   "id": "271a99a1-630e-4792-bec3-b04d0dafda3a",
   "metadata": {},
   "outputs": [
    {
     "name": "stderr",
     "output_type": "stream",
     "text": [
      "02:38PM 51s INFO [get_f_convergence]: Saved convergences to C:\\Users\\Quantum Circuits IB\\Documents\\Kelvin\\qiskit-metal\\qmetal\\simu\\resonator\\code_qm\\Doble\\hfss_eig_f_convergence.csv\n"
     ]
    }
   ],
   "source": [
    "eig_res.sim.convergence_t, eig_res.sim.convergence_f, _ = hfss.get_convergences()\n",
    "eig_res.sim.plot_convergences()"
   ]
  },
  {
   "cell_type": "code",
   "execution_count": null,
   "id": "21cad3d2-38a1-413b-b2de-826d77ca5238",
   "metadata": {},
   "outputs": [],
   "source": []
  },
  {
   "cell_type": "markdown",
   "id": "8bd2910a",
   "metadata": {},
   "source": [
    "# Scattering Analysis"
   ]
  },
  {
   "cell_type": "code",
   "execution_count": 21,
   "id": "be209d2e",
   "metadata": {},
   "outputs": [],
   "source": [
    "from qiskit_metal.analyses.simulation import ScatteringImpedanceSim\n",
    "em1 = ScatteringImpedanceSim(design, \"hfss\")"
   ]
  },
  {
   "cell_type": "code",
   "execution_count": 22,
   "id": "504994dd",
   "metadata": {},
   "outputs": [],
   "source": [
    "design_name= \"Sweep_DrivenModal\"\n",
    "qcomp_render = [] # Means to render everything in qgeometry table.\n",
    "open_terminations = []\n",
    "\n",
    "# Here, pin LP1_in and LP2_in are converted into lumped ports,\n",
    "#           each with an impedance of 50 Ohms. <br>\n",
    "port_list = [('LP1', 'in', 50),\n",
    "             ('LP2', 'in', 50)]\n",
    "box_plus_buffer = True"
   ]
  },
  {
   "cell_type": "code",
   "execution_count": 23,
   "id": "be7762a9",
   "metadata": {},
   "outputs": [
    {
     "name": "stderr",
     "output_type": "stream",
     "text": [
      "INFO 03:47PM [connect_project]: Connecting to Ansys Desktop API...\n",
      "INFO 03:47PM [load_ansys_project]: \tOpened Ansys App\n",
      "INFO 03:47PM [load_ansys_project]: \tOpened Ansys Desktop v2018.0.0\n",
      "INFO 03:47PM [load_ansys_project]: \tOpened Ansys Project\n",
      "\tFolder:    C:/Users/Quantum Circuits IB/Documents/Kelvin/qiskit-metal/qmetal/simu/resonator/code_qm/Doble/\n",
      "\tProject:   Project32px\n",
      "INFO 03:47PM [connect_design]: \tOpened active design\n",
      "\tDesign:    32pix_v1 [Solution type: DrivenModal]\n",
      "INFO 03:47PM [get_setup]: \tOpened setup `Setup`  (<class 'pyEPR.ansys.HfssDMSetup'>)\n",
      "INFO 03:47PM [connect]: \tConnected to project \"Project32px\" and design \"32pix_v1\" 😀 \n",
      "\n"
     ]
    },
    {
     "data": {
      "text/plain": [
       "True"
      ]
     },
     "execution_count": 23,
     "metadata": {},
     "output_type": "execute_result"
    }
   ],
   "source": [
    "# we use HFSS as rendere\n",
    "hfss = em1.renderer\n",
    "hfss.start()"
   ]
  },
  {
   "cell_type": "code",
   "execution_count": 24,
   "id": "6bd25114",
   "metadata": {},
   "outputs": [
    {
     "name": "stderr",
     "output_type": "stream",
     "text": [
      "03:47PM 33s WARNING [activate_ansys_design]: The design_name=Res_AB was not in active project.  Designs in active project are: \n",
      "['HFSSDesign1', '32pix_v1'].  A new design will be added to the project.  \n",
      "INFO 03:47PM [connect_design]: \tOpened active design\n",
      "\tDesign:    Res_AB [Solution type: DrivenModal]\n",
      "WARNING 03:47PM [connect_setup]: \tNo design setup detected.\n",
      "WARNING 03:47PM [connect_setup]: \tCreating driven modal default setup.\n",
      "INFO 03:47PM [get_setup]: \tOpened setup `Setup`  (<class 'pyEPR.ansys.HfssDMSetup'>)\n",
      "03:47PM 34s WARNING [edit_drivenmodal_setup]: In setup_args, key=max_delta_s, value=0.02 is not in pinfo.setup, the key/value pair from setup_args not added to Setup in Ansys.\n"
     ]
    }
   ],
   "source": [
    "# Here we activate the design for a drivenmodal solution\n",
    "hfss.activate_ansys_design(\"Res_AB\", 'drivenmodal')\n",
    "setup_args = Dict(max_delta_s=0.02)\n",
    "setup_args.name = 'Setup'\n",
    "hfss.edit_drivenmodal_setup(setup_args)"
   ]
  },
  {
   "cell_type": "code",
   "execution_count": 25,
   "id": "5c8fc60c",
   "metadata": {},
   "outputs": [],
   "source": [
    "# set buffer\n",
    "hfss.options['x_buffer_width_mm'] = 0.4\n",
    "hfss.options['y_buffer_width_mm'] = 0.4"
   ]
  },
  {
   "cell_type": "code",
   "execution_count": 26,
   "id": "522ca07a",
   "metadata": {},
   "outputs": [],
   "source": [
    "# clean the design if needed\n",
    "hfss.clean_active_design()"
   ]
  },
  {
   "cell_type": "code",
   "execution_count": 27,
   "id": "d685f9fc",
   "metadata": {},
   "outputs": [],
   "source": [
    "# render the design\n",
    "hfss.render_design(selection=[], \n",
    "                   open_pins=open_terminations, \n",
    "                   port_list=port_list, \n",
    "                   box_plus_buffer = box_plus_buffer)\n"
   ]
  },
  {
   "cell_type": "code",
   "execution_count": 28,
   "id": "9742a920-da37-43ff-8644-78e3a0a43928",
   "metadata": {},
   "outputs": [],
   "source": [
    "# for acurate simulations, make sure the mesh is fine enough for the meander\n",
    "hfss.modeler.mesh_length(\n",
    "                'cpw_mesh',\n",
    "                ['trace_meandro_A', 'trace_meandro_B',\n",
    "                 'second_cpw_Capacitora','second_cpw_Capacitorb'],\n",
    "                MaxLength='0.01mm')"
   ]
  },
  {
   "cell_type": "code",
   "execution_count": 212,
   "id": "12ba5d0e-3810-4a3b-bd43-d413249e2442",
   "metadata": {},
   "outputs": [],
   "source": [
    "# hfss.modeler.mesh_length(\n",
    "#                 'cpw_plane',\n",
    "#                 ['trace_meandro','trace_meandroa','trace_meandrob'],\n",
    "#                 MaxLength='10um')"
   ]
  },
  {
   "cell_type": "markdown",
   "id": "9ad348ed",
   "metadata": {},
   "source": [
    "# Broad sweet to find the resonance"
   ]
  },
  {
   "cell_type": "code",
   "execution_count": 30,
   "id": "e65e1ab2",
   "metadata": {},
   "outputs": [
    {
     "name": "stderr",
     "output_type": "stream",
     "text": [
      "INFO 10:30AM [get_setup]: \tOpened setup `Setup`  (<class 'pyEPR.ansys.HfssDMSetup'>)\n"
     ]
    },
    {
     "data": {
      "text/plain": [
       "<pyEPR.ansys.HfssFrequencySweep at 0x1c4f73cf670>"
      ]
     },
     "execution_count": 30,
     "metadata": {},
     "output_type": "execute_result"
    }
   ],
   "source": [
    "hfss.add_sweep(setup_name=\"Setup\", \n",
    "               name=\"Sweep\", \n",
    "               start_ghz=1.0,\n",
    "               stop_ghz=20.0,\n",
    "               count=2001,\n",
    "               type=\"Fast\")"
   ]
  },
  {
   "cell_type": "code",
   "execution_count": 29,
   "id": "bdeac158",
   "metadata": {},
   "outputs": [
    {
     "name": "stderr",
     "output_type": "stream",
     "text": [
      "INFO 10:08PM [get_setup]: \tOpened setup `Setup`  (<class 'pyEPR.ansys.HfssDMSetup'>)\n",
      "INFO 10:08PM [analyze]: Analyzing setup Setup : Sweep\n"
     ]
    }
   ],
   "source": [
    "hfss.analyze_sweep('Sweep', 'Setup')"
   ]
  },
  {
   "cell_type": "code",
   "execution_count": null,
   "id": "522904f7",
   "metadata": {},
   "outputs": [],
   "source": [
    "hfss.plot_params(['S11', 'S21'])"
   ]
  },
  {
   "cell_type": "code",
   "execution_count": null,
   "id": "87eee805",
   "metadata": {},
   "outputs": [],
   "source": []
  },
  {
   "cell_type": "code",
   "execution_count": null,
   "id": "c1f26b38",
   "metadata": {},
   "outputs": [],
   "source": [
    "# extract the S21 parameters\n",
    "freqs, Pcurves, Pparams = hfss.get_params(['S21'])"
   ]
  },
  {
   "cell_type": "code",
   "execution_count": null,
   "id": "1c71579a",
   "metadata": {},
   "outputs": [],
   "source": [
    "# find armin \n",
    "f_res = freqs[np.argmin(np.abs(Pparams.S21.values))]\n",
    "f_res"
   ]
  },
  {
   "cell_type": "markdown",
   "id": "43df3d00",
   "metadata": {},
   "source": [
    "# Narrow sweep around the resonance found above"
   ]
  },
  {
   "cell_type": "code",
   "execution_count": null,
   "id": "50ddb791",
   "metadata": {},
   "outputs": [],
   "source": [
    "#fine sweep\n",
    "hfss.add_sweep(setup_name=\"Setup\", \n",
    "               name=\"Sweep_narrow\", \n",
    "               start_ghz=np.round(f_res/1e9,3)-0.01,\n",
    "               stop_ghz=np.round(f_res/1e9,3)+0.01,\n",
    "               count=1001,\n",
    "               type=\"Fast\") #slow but precise"
   ]
  },
  {
   "cell_type": "code",
   "execution_count": null,
   "id": "ffea4175",
   "metadata": {},
   "outputs": [],
   "source": [
    "hfss.analyze_sweep('Sweep_narrow', 'Setup')"
   ]
  },
  {
   "cell_type": "code",
   "execution_count": null,
   "id": "f06626b4",
   "metadata": {},
   "outputs": [],
   "source": [
    "hfss.plot_params(['S11', 'S21'])"
   ]
  },
  {
   "cell_type": "code",
   "execution_count": null,
   "id": "743b8dcf",
   "metadata": {},
   "outputs": [],
   "source": []
  },
  {
   "cell_type": "markdown",
   "id": "c72f2f6d",
   "metadata": {},
   "source": [
    "# Close connections"
   ]
  },
  {
   "cell_type": "code",
   "execution_count": 47,
   "id": "80694931",
   "metadata": {},
   "outputs": [
    {
     "name": "stdout",
     "output_type": "stream",
     "text": [
      "Warning! 3 COM references still alive\n",
      "Ansys will likely refuse to shut down\n"
     ]
    }
   ],
   "source": [
    "em1.close()"
   ]
  },
  {
   "cell_type": "code",
   "execution_count": 58,
   "id": "13927800",
   "metadata": {},
   "outputs": [
    {
     "name": "stdout",
     "output_type": "stream",
     "text": [
      "Warning! 3 COM references still alive\n",
      "Ansys will likely refuse to shut down\n"
     ]
    }
   ],
   "source": [
    "hfss.disconnect_ansys()"
   ]
  },
  {
   "cell_type": "code",
   "execution_count": 50,
   "id": "dc2621b9",
   "metadata": {},
   "outputs": [
    {
     "data": {
      "text/plain": [
       "True"
      ]
     },
     "execution_count": 50,
     "metadata": {},
     "output_type": "execute_result"
    }
   ],
   "source": [
    "gui.main_window.close()"
   ]
  },
  {
   "cell_type": "code",
   "execution_count": null,
   "id": "6d7375c2",
   "metadata": {},
   "outputs": [],
   "source": [
    "close()"
   ]
  },
  {
   "cell_type": "code",
   "execution_count": 46,
   "id": "81863bcc",
   "metadata": {},
   "outputs": [
    {
     "data": {
      "text/plain": [
       "'0.0.4'"
      ]
     },
     "execution_count": 46,
     "metadata": {},
     "output_type": "execute_result"
    }
   ],
   "source": [
    "import qiskit_metal\n",
    "qiskit_metal.__version__"
   ]
  },
  {
   "cell_type": "code",
   "execution_count": null,
   "id": "6b7596bf",
   "metadata": {},
   "outputs": [],
   "source": []
  }
 ],
 "metadata": {
  "kernelspec": {
   "display_name": "Python 3 (ipykernel)",
   "language": "python",
   "name": "python3"
  },
  "language_info": {
   "codemirror_mode": {
    "name": "ipython",
    "version": 3
   },
   "file_extension": ".py",
   "mimetype": "text/x-python",
   "name": "python",
   "nbconvert_exporter": "python",
   "pygments_lexer": "ipython3",
   "version": "3.10.11"
  },
  "latex_envs": {
   "LaTeX_envs_menu_present": true,
   "autoclose": false,
   "autocomplete": true,
   "bibliofile": "biblio.bib",
   "cite_by": "apalike",
   "current_citInitial": 1,
   "eqLabelWithNumbers": true,
   "eqNumInitial": 1,
   "hotkeys": {
    "equation": "Ctrl-E",
    "itemize": "Ctrl-I"
   },
   "labels_anchors": false,
   "latex_user_defs": false,
   "report_style_numbering": false,
   "user_envs_cfg": false
  },
  "toc": {
   "base_numbering": 1,
   "nav_menu": {},
   "number_sections": true,
   "sideBar": true,
   "skip_h1_title": false,
   "title_cell": "Table of Contents",
   "title_sidebar": "Contents",
   "toc_cell": false,
   "toc_position": {},
   "toc_section_display": true,
   "toc_window_display": false
  }
 },
 "nbformat": 4,
 "nbformat_minor": 5
}
