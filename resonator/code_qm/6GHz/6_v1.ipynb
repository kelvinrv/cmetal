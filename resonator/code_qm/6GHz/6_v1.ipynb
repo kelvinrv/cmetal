{
 "cells": [
  {
   "cell_type": "markdown",
   "id": "35d27b44",
   "metadata": {
    "tags": []
   },
   "source": [
    "# Single resonator\n",
    "\n",
    "\n",
    "Authors: Kelvin Ramos\n",
    "\n",
    "Description: single resonator coupled to a feedline f=6GHz, lc=100um"
   ]
  },
  {
   "cell_type": "code",
   "execution_count": 1,
   "id": "0b0da17a",
   "metadata": {},
   "outputs": [],
   "source": [
    "# Import useful packages\n",
    "import qiskit_metal as metal\n",
    "from qiskit_metal import designs, draw\n",
    "from qiskit_metal import MetalGUI, Dict, open_docs\n",
    "from qiskit_metal.toolbox_metal import math_and_overrides\n",
    "from qiskit_metal.qlibrary.core import QComponent\n",
    "from collections import OrderedDict\n",
    "\n",
    "# To create plots after geting solution data.\n",
    "import matplotlib.pyplot as plt\n",
    "import numpy as np\n",
    "\n",
    "# Packages for the simple design\n",
    "from qiskit_metal.qlibrary.tlines.meandered import RouteMeander\n",
    "from qiskit_metal.qlibrary.tlines.pathfinder import RoutePathfinder\n",
    "from qiskit_metal.qlibrary.terminations.launchpad_wb_driven import LaunchpadWirebondDriven\n",
    "from qiskit_metal.qlibrary.terminations.open_to_ground import OpenToGround\n",
    "from qiskit_metal.qlibrary.terminations.short_to_ground import ShortToGround\n",
    "from qiskit_metal.qlibrary.couplers.coupled_line_tee import CoupledLineTee\n",
    "\n",
    "# Analysis\n",
    "# from qiskit_metal.renderers.renderer_gds.gds_renderer import QGDSRenderer\n",
    "# from qiskit_metal.analyses.quantization import EPRanalysis\n",
    "from qiskit_metal.analyses.quantization import EPRanalysis\n",
    "from qiskit_metal.analyses.simulation import ScatteringImpedanceSim\n",
    "from qiskit_metal.analyses.sweep_and_optimize.sweeping import Sweeping\n",
    "import pyEPR as epr"
   ]
  },
  {
   "cell_type": "markdown",
   "id": "da768bb6-a490-41b3-94b7-f3e21c62ce54",
   "metadata": {},
   "source": [
    "# Parameters"
   ]
  },
  {
   "cell_type": "code",
   "execution_count": 2,
   "id": "ceeb599e-355e-4c16-82f5-ad57483c4932",
   "metadata": {},
   "outputs": [],
   "source": [
    "from scipy.constants import c"
   ]
  },
  {
   "cell_type": "code",
   "execution_count": 3,
   "id": "fb2b49b6-aef2-4a1f-a3fa-24a97652349e",
   "metadata": {},
   "outputs": [
    {
     "name": "stdout",
     "output_type": "stream",
     "text": [
      "resonator length l=4.9185 mm for frequency f0=6.0 GHz\n"
     ]
    }
   ],
   "source": [
    "### f is float in GHz\n",
    "def leng(f):\n",
    "    f2=f*1e9 ## to GHz\n",
    "    eff=(11.9+1)/2\n",
    "    le=c/(4*np.sqrt(eff)*f2)\n",
    "    le=le*1e3 # to milimeters\n",
    "    return print(r'resonator length l={:.4f} mm for frequency f0={} GHz'.format(le,f))\n",
    "leng(6.0)"
   ]
  },
  {
   "cell_type": "markdown",
   "id": "c6e244f8",
   "metadata": {},
   "source": [
    "# diseño del chip"
   ]
  },
  {
   "cell_type": "code",
   "execution_count": 4,
   "id": "3983eac9",
   "metadata": {},
   "outputs": [],
   "source": [
    "# Set up chip dimensions \n",
    "design = designs.DesignPlanar()\n",
    "design._chips['main']['size']['size_x'] = '4mm'\n",
    "design._chips['main']['size']['size_y'] = '3mm'\n",
    "design._chips['main']['size']['size_z'] = '-400um-50nm'\n",
    "# Resonator and feedline gap width (W) and center conductor width (S) from reference 2\n",
    "design.variables['cpw_width'] = '20um' #S from reference 2\n",
    "design.variables['cpw_gap'] = '11um' #W from reference 2\n",
    "\n",
    "\n",
    "design.overwrite_enabled = True\n",
    "\n",
    "hfss = design.renderers.hfss\n",
    "\n",
    "# Open GUI\n",
    "gui = MetalGUI(design)"
   ]
  },
  {
   "cell_type": "code",
   "execution_count": 5,
   "id": "8d95be63",
   "metadata": {},
   "outputs": [],
   "source": [
    "design.chips.main.size['center_x'] = '2.0mm'\n",
    "design.chips.main.size['center_y'] = '1.5mm'"
   ]
  },
  {
   "cell_type": "code",
   "execution_count": 6,
   "id": "cc2c100f",
   "metadata": {},
   "outputs": [],
   "source": [
    "# Define for renderer\n",
    "eig_qres = EPRanalysis(design, \"hfss\")\n",
    "hfss = design.renderers.hfss\n",
    "hfss = eig_qres.sim.renderer\n",
    "q3d = design.renderers.q3d"
   ]
  },
  {
   "cell_type": "markdown",
   "id": "055c0bef",
   "metadata": {},
   "source": [
    "# Capacitors\n",
    "\n",
    "Here we will have a single feedline couple to 16 CPW resonators.\n"
   ]
  },
  {
   "cell_type": "code",
   "execution_count": 104,
   "id": "2c896d8f-9d18-4a0e-a868-b94c66925b31",
   "metadata": {},
   "outputs": [
    {
     "name": "stdout",
     "output_type": "stream",
     "text": [
      "resonator length l=4.9185 mm for frequency f0=6 GHz\n",
      "coupling length: 0.1700 mm\n"
     ]
    }
   ],
   "source": [
    "leng(6)\n",
    "coup=80e-3\n",
    "fil=90e-3\n",
    "start_leg=100e-3\n",
    "len_coup=coup+fil\n",
    "print(r'coupling length: {:.4f} mm'.format(len_coup))"
   ]
  },
  {
   "cell_type": "code",
   "execution_count": 105,
   "id": "39edaee9",
   "metadata": {},
   "outputs": [],
   "source": [
    "#### we must to add the fillet factor to the coumpling_length\n",
    "\n",
    "\n",
    "ubi_1=dict(pos_x='2.0mm', pos_y='1.5mm', prime_width='20um', prime_gap='11um', \n",
    "         second_width='20um', second_gap='11um', coupling_space='10um', \n",
    "         coupling_length='170um', down_length='100um', fillet='90um', hfss_wire_bonds=True)\n",
    "\n",
    "Capacitor_1 = CoupledLineTee(design, 'Capacitor_1', options=ubi_1)\n",
    "\n",
    "gui.rebuild()\n",
    "gui.autoscale()"
   ]
  },
  {
   "cell_type": "markdown",
   "id": "ce4ca222",
   "metadata": {},
   "source": [
    "# Launchpad\n",
    "\n",
    "\n",
    "The lauchpad should be included in the driven model simulations.\n",
    "\n",
    "For that reason, we use the LaunchpadWirebondDriven component which has an extra pin for input/output"
   ]
  },
  {
   "cell_type": "code",
   "execution_count": 106,
   "id": "ef570ed8",
   "metadata": {},
   "outputs": [],
   "source": [
    "###################\n",
    "# Single feedline #\n",
    "###################\n",
    "\n",
    "# Driven Lauchpad 1\n",
    "x1 = '0.5mm'\n",
    "y1 = '1.5mm'\n",
    "ops_1 = Dict(chip='main', pos_x=x1, pos_y=y1, orientation='360', lead_length='10um', \n",
    "             pad_width='120um', pad_gap='61um', trace_width='20um', trace_gap='11um')\n",
    "LP1 = LaunchpadWirebondDriven(design, 'LP1', options = ops_1)\n",
    "\n",
    "# Driven Launchpad 2\n",
    "x2 = '3.5mm'\n",
    "y2 = '1.5mm'\n",
    "ops_2 = Dict(chip='main', pos_x=x2, pos_y=y2, orientation='180', lead_length='10um',\n",
    "             pad_width='120um', pad_gap='61um', trace_width='20um', trace_gap='11um')\n",
    "LP2 = LaunchpadWirebondDriven(design, 'LP2', options = ops_2)\n",
    "\n",
    "\n",
    "# Rebuild the GUI\n",
    "gui.rebuild()\n",
    "gui.autoscale()"
   ]
  },
  {
   "cell_type": "markdown",
   "id": "f092163f",
   "metadata": {},
   "source": [
    "# Transmission lines"
   ]
  },
  {
   "cell_type": "markdown",
   "id": "ac57d683",
   "metadata": {},
   "source": [
    "## First part"
   ]
  },
  {
   "cell_type": "code",
   "execution_count": 107,
   "id": "e9fa20dd",
   "metadata": {},
   "outputs": [
    {
     "name": "stderr",
     "output_type": "stream",
     "text": [
      "INFO 04:23PM [__del__]: Disconnected from Ansys HFSS\n",
      "INFO 04:23PM [__del__]: Disconnected from Ansys HFSS\n",
      "INFO 04:23PM [__del__]: Disconnected from Ansys HFSS\n",
      "INFO 04:23PM [__del__]: Disconnected from Ansys HFSS\n",
      "INFO 04:23PM [__del__]: Disconnected from Ansys HFSS\n"
     ]
    }
   ],
   "source": [
    "# Using path finder to connect the two launchpads\n",
    "# Using path finder to connect the two launchpads\n",
    "#### LP1 capacitor\n",
    "linea_1 = RoutePathfinder(design, 'linea_1', options = Dict(chip='main', trace_width ='20um',\n",
    "        trace_gap ='11um', fillet='10um', hfss_wire_bonds = True, lead=Dict(end_straight='0.0mm'),\n",
    "                                            pin_inputs=Dict(\n",
    "                                                start_pin=Dict(\n",
    "                                                    component='LP1',\n",
    "                                                    pin='tie'),\n",
    "                                                end_pin=Dict(\n",
    "                                                    component='Capacitor_1',\n",
    "                                                    pin='prime_start')\n",
    "                                    \n",
    "        )))\n",
    "linea_4 = RoutePathfinder(design, 'linea_4', options = Dict(chip='main', trace_width ='20um',\n",
    "        trace_gap ='11um', fillet='10um', hfss_wire_bonds = True,\n",
    "                                            lead=Dict(end_straight='0.0mm'),\n",
    "                                            pin_inputs=Dict(\n",
    "                                                start_pin=Dict(\n",
    "                                                    component='Capacitor_1',\n",
    "                                                    pin='prime_end'),\n",
    "                                                end_pin=Dict(\n",
    "                                                    component='LP2',\n",
    "                                                    pin='tie')\n",
    "                                            )))\n",
    "#### LP2 capacitorb\n",
    "\n",
    "\n",
    "# Rebuild the GUI\n",
    "gui.rebuild()\n",
    "gui.autoscale() \n"
   ]
  },
  {
   "cell_type": "markdown",
   "id": "f6eec4ad",
   "metadata": {},
   "source": [
    "# Resonators"
   ]
  },
  {
   "cell_type": "markdown",
   "id": "0822363c-debb-4c09-ac40-9fa13dae546a",
   "metadata": {},
   "source": [
    "#### coupling length"
   ]
  },
  {
   "cell_type": "code",
   "execution_count": 108,
   "id": "1235a0a2-ea33-4da3-9465-a546a69086b6",
   "metadata": {},
   "outputs": [
    {
     "name": "stdout",
     "output_type": "stream",
     "text": [
      "resonator length l=4.9185 mm for frequency f0=6.0 GHz\n",
      "true_length 4.7485\n"
     ]
    }
   ],
   "source": [
    "leng(6.0)\n",
    "# len_true=5.902-coup-fil-start_leg\n",
    "len_true=4.9185-coup-fil\n",
    "print('true_length', len_true)"
   ]
  },
  {
   "cell_type": "code",
   "execution_count": 109,
   "id": "92b1570a",
   "metadata": {},
   "outputs": [],
   "source": [
    "######################\n",
    "# lambda/4 resonator #\n",
    "######################\n",
    "\n",
    "otg1 = ShortToGround(design, 'otg1', options=Dict(chip='main', pos_x='2.5mm',  pos_y='0.25mm',\n",
    "                                                  orientation='0'))\n",
    "\n",
    "# Use RouteMeander to fix the total length of the resonator\n",
    "meandro_1 = RouteMeander(design, 'meandro_1',  options=Dict(chip='main',\n",
    "        trace_width ='cpw_width',\n",
    "        trace_gap ='11um',\n",
    "        total_length='4.7485mm',\n",
    "        hfss_wire_bonds = True,\n",
    "        fillet='90 um',\n",
    "        lead = Dict(start_straight='400um', end_straight='100um'),\n",
    "        meander=Dict(spacing='260um', asymmetry='0um'),\n",
    "        pin_inputs=Dict(\n",
    "            start_pin=Dict(component='Capacitor_1', pin='second_end'),\n",
    "            end_pin=Dict(component='otg1', pin='short')), ))\n",
    "\n",
    "# rebuild the GUI\n",
    "gui.rebuild()\n",
    "gui.autoscale()"
   ]
  },
  {
   "cell_type": "code",
   "execution_count": 93,
   "id": "6324ce10",
   "metadata": {},
   "outputs": [
    {
     "data": {
      "text/plain": [
       "{'chip': 'main',\n",
       " 'layer': '1',\n",
       " 'pin_inputs': {'start_pin': {'component': 'Capacitor_1', 'pin': 'second_end'},\n",
       "  'end_pin': {'component': 'otg1', 'pin': 'short'}},\n",
       " 'fillet': '90 um',\n",
       " 'lead': {'start_straight': '400um',\n",
       "  'end_straight': '100um',\n",
       "  'start_jogged_extension': '',\n",
       "  'end_jogged_extension': ''},\n",
       " 'total_length': '4.6285mm',\n",
       " 'trace_width': 'cpw_width',\n",
       " 'meander': {'spacing': '260um', 'asymmetry': '0um'},\n",
       " 'snap': 'true',\n",
       " 'prevent_short_edges': 'true',\n",
       " 'hfss_wire_bonds': True,\n",
       " 'q3d_wire_bonds': False,\n",
       " 'aedt_q3d_wire_bonds': False,\n",
       " 'aedt_hfss_drivenmodal_wire_bonds': False,\n",
       " 'aedt_hfss_eigenmode_wire_bonds': False,\n",
       " 'trace_gap': '11um',\n",
       " '_actual_length': '4.6285 mm'}"
      ]
     },
     "execution_count": 93,
     "metadata": {},
     "output_type": "execute_result"
    }
   ],
   "source": [
    "meandro_1.options"
   ]
  },
  {
   "cell_type": "markdown",
   "id": "5b1c489c",
   "metadata": {},
   "source": [
    "# Simulacion"
   ]
  },
  {
   "cell_type": "markdown",
   "id": "480ee94c",
   "metadata": {},
   "source": [
    "### EPR analysis for frequency convergence"
   ]
  },
  {
   "cell_type": "code",
   "execution_count": 94,
   "id": "2dd8689a",
   "metadata": {},
   "outputs": [],
   "source": [
    "from qiskit_metal.analyses.quantization import EPRanalysis\n",
    "eig_res = EPRanalysis(design, \"hfss\")"
   ]
  },
  {
   "cell_type": "code",
   "execution_count": 18,
   "id": "f8f9a229",
   "metadata": {},
   "outputs": [],
   "source": [
    "hfss = eig_res.sim.renderer"
   ]
  },
  {
   "cell_type": "code",
   "execution_count": 19,
   "id": "e61f3ae5",
   "metadata": {},
   "outputs": [
    {
     "name": "stderr",
     "output_type": "stream",
     "text": [
      "INFO 01:32PM [connect_project]: Connecting to Ansys Desktop API...\n",
      "INFO 01:32PM [load_ansys_project]: \tOpened Ansys App\n",
      "INFO 01:32PM [load_ansys_project]: \tOpened Ansys Desktop v2018.0.0\n",
      "INFO 01:32PM [load_ansys_project]: \tOpened Ansys Project\n",
      "\tFolder:    C:/Users/Quantum Circuits IB/Documents/Kelvin/qiskit-metal/qmetal/simu/resonator/projects_hfss/\n",
      "\tProject:   reso4Ghz\n",
      "INFO 01:32PM [connect_design]: \tOpened active design\n",
      "\tDesign:    Readout3 [Solution type: Eigenmode]\n",
      "INFO 01:32PM [get_setup]: \tOpened setup `Setup`  (<class 'pyEPR.ansys.HfssEMSetup'>)\n",
      "INFO 01:32PM [connect]: \tConnected to project \"reso4Ghz\" and design \"Readout3\" 😀 \n",
      "\n"
     ]
    },
    {
     "data": {
      "text/plain": [
       "True"
      ]
     },
     "execution_count": 19,
     "metadata": {},
     "output_type": "execute_result"
    }
   ],
   "source": [
    "hfss.start() ## start hfss"
   ]
  },
  {
   "cell_type": "code",
   "execution_count": 20,
   "id": "0644074d",
   "metadata": {},
   "outputs": [],
   "source": [
    "# clean the design if needed\n",
    "hfss.clean_active_design()"
   ]
  },
  {
   "cell_type": "code",
   "execution_count": 21,
   "id": "f1dec56a",
   "metadata": {},
   "outputs": [
    {
     "name": "stderr",
     "output_type": "stream",
     "text": [
      "INFO 01:32PM [connect_design]: \tOpened active design\n",
      "\tDesign:    Readout3 [Solution type: Eigenmode]\n"
     ]
    }
   ],
   "source": [
    "hfss.activate_ansys_design(\"Readout3\", 'eigenmode')  # use new_ansys_design() to force creation of a blank design"
   ]
  },
  {
   "cell_type": "code",
   "execution_count": 22,
   "id": "2de048bc",
   "metadata": {},
   "outputs": [],
   "source": [
    "hfss.render_design([], [])\n",
    "#hfss.save_screenshot()"
   ]
  },
  {
   "cell_type": "code",
   "execution_count": 23,
   "id": "5e4bd3fc",
   "metadata": {},
   "outputs": [
    {
     "name": "stderr",
     "output_type": "stream",
     "text": [
      "INFO 01:33PM [analyze]: Analyzing setup Setup\n"
     ]
    }
   ],
   "source": [
    "# Analysis properties\n",
    "setup = hfss.pinfo.setup\n",
    "setup.passes = 8\n",
    "setup.delta_f = 0.01\n",
    "# print(f\"\"\"\n",
    "# Number of eigenmodes to find             = {setup.n_modes}\n",
    "# Number of simulation passes              = {setup.passes}\n",
    "# Convergence freq max delta percent diff  = {setup.delta_f}\n",
    "# \"\"\")\n",
    "\n",
    "# Next 2 lines are counterinuitive, since there is no junction in this resonator.\n",
    "# However, these are necessary to make pyEPR work correctly. Please do note delete\n",
    "hfss.pinfo.design.set_variable('Lj', '10 nH')\n",
    "hfss.pinfo.design.set_variable('Cj', '0 fF')\n",
    "setup.analyze()"
   ]
  },
  {
   "cell_type": "code",
   "execution_count": 24,
   "id": "33ac0cfd",
   "metadata": {},
   "outputs": [
    {
     "name": "stderr",
     "output_type": "stream",
     "text": [
      "01:33PM 58s INFO [get_f_convergence]: Saved convergences to C:\\Users\\Quantum Circuits IB\\Documents\\Kelvin\\qiskit-metal\\qmetal\\simu\\resonator\\code_qm\\hfss_eig_f_convergence.csv\n"
     ]
    }
   ],
   "source": [
    "eig_res.sim.convergence_t, eig_res.sim.convergence_f, _ = hfss.get_convergences()\n",
    "eig_res.sim.plot_convergences()"
   ]
  },
  {
   "cell_type": "code",
   "execution_count": null,
   "id": "9aa9b3e0",
   "metadata": {},
   "outputs": [],
   "source": []
  },
  {
   "cell_type": "code",
   "execution_count": null,
   "id": "e1515845",
   "metadata": {},
   "outputs": [],
   "source": []
  },
  {
   "cell_type": "markdown",
   "id": "326eb5e7-3f08-46c7-8a6f-aef5bd275cc2",
   "metadata": {},
   "source": [
    "### Driven modal for S21 behaviour"
   ]
  },
  {
   "cell_type": "code",
   "execution_count": 110,
   "id": "fae14f5b",
   "metadata": {},
   "outputs": [],
   "source": [
    "from qiskit_metal.analyses.simulation import ScatteringImpedanceSim\n",
    "em1 = ScatteringImpedanceSim(design, \"hfss\")\n"
   ]
  },
  {
   "cell_type": "code",
   "execution_count": 111,
   "id": "e652d20b",
   "metadata": {},
   "outputs": [],
   "source": [
    "design_name= \"Sweep_DrivenModal\"\n",
    "qcomp_render = [] # Means to render everything in qgeometry table.\n",
    "open_terminations = []\n",
    "\n",
    "# Here, pin LP1_in and LP2_in are converted into lumped ports,\n",
    "#           each with an impedance of 50 Ohms. <br>\n",
    "port_list = [('LP1', 'in', 50),\n",
    "             ('LP2', 'in', 50)]\n",
    "box_plus_buffer = True"
   ]
  },
  {
   "cell_type": "code",
   "execution_count": 112,
   "id": "343f9109",
   "metadata": {},
   "outputs": [
    {
     "name": "stderr",
     "output_type": "stream",
     "text": [
      "INFO 04:23PM [connect_project]: Connecting to Ansys Desktop API...\n",
      "INFO 04:23PM [load_ansys_project]: \tOpened Ansys App\n",
      "INFO 04:23PM [load_ansys_project]: \tOpened Ansys Desktop v2018.0.0\n",
      "INFO 04:23PM [load_ansys_project]: \tOpened Ansys Project\n",
      "\tFolder:    C:/Users/Quantum Circuits IB/Documents/Kelvin/qiskit-metal/qmetal/simu/resonator/code_qm/6GHz/\n",
      "\tProject:   Project6GHz\n",
      "INFO 04:23PM [connect_design]: \tOpened active design\n",
      "\tDesign:    freq_6ghz [Solution type: DrivenModal]\n",
      "INFO 04:23PM [get_setup]: \tOpened setup `Setup`  (<class 'pyEPR.ansys.HfssDMSetup'>)\n",
      "INFO 04:23PM [connect]: \tConnected to project \"Project6GHz\" and design \"freq_6ghz\" 😀 \n",
      "\n"
     ]
    },
    {
     "data": {
      "text/plain": [
       "True"
      ]
     },
     "execution_count": 112,
     "metadata": {},
     "output_type": "execute_result"
    }
   ],
   "source": [
    "# we use HFSS as rendere\n",
    "hfss = em1.renderer\n",
    "hfss.start()"
   ]
  },
  {
   "cell_type": "code",
   "execution_count": 113,
   "id": "f26fc3b5",
   "metadata": {
    "scrolled": true
   },
   "outputs": [
    {
     "name": "stderr",
     "output_type": "stream",
     "text": [
      "INFO 04:23PM [connect_design]: \tOpened active design\n",
      "\tDesign:    freq_6ghz [Solution type: DrivenModal]\n",
      "04:23PM 37s WARNING [edit_drivenmodal_setup]: In setup_args, key=max_delta_s, value=0.01 is not in pinfo.setup, the key/value pair from setup_args not added to Setup in Ansys.\n",
      "04:23PM 37s WARNING [edit_drivenmodal_setup]: The value for freq_ghz should be an float. The present value is 6.\n",
      "04:23PM 37s WARNING [edit_drivenmodal_setup]: In setup_args, key=freq_ghz, value=6 is not in pinfo.setup, the key/value pair from setup_args not added to Setup in Ansys.\n"
     ]
    }
   ],
   "source": [
    "# Here we activate the design for a drivenmodal solution\n",
    "hfss.activate_ansys_design(\"freq_6ghz\", 'drivenmodal')\n",
    "setup_args = Dict(max_delta_s=0.01, freq_ghz=6, max_passes=10)\n",
    "setup_args.name = 'Setup'\n",
    "hfss.edit_drivenmodal_setup(setup_args)"
   ]
  },
  {
   "cell_type": "code",
   "execution_count": 114,
   "id": "cf19f4e6",
   "metadata": {},
   "outputs": [],
   "source": [
    "# set buffer: espacio alrededor de la geometría que está siendo simulada\n",
    "hfss.options['x_buffer_width_mm'] = 0.4\n",
    "hfss.options['y_buffer_width_mm'] = 0.4"
   ]
  },
  {
   "cell_type": "code",
   "execution_count": 115,
   "id": "9e8ab762",
   "metadata": {},
   "outputs": [],
   "source": [
    "# clean the design if needed\n",
    "hfss.clean_active_design()"
   ]
  },
  {
   "cell_type": "code",
   "execution_count": 116,
   "id": "5e64d681",
   "metadata": {},
   "outputs": [],
   "source": [
    "# render the design\n",
    "hfss.render_design(selection=[], \n",
    "                   open_pins=open_terminations, \n",
    "                   port_list=port_list, \n",
    "                   box_plus_buffer = box_plus_buffer)"
   ]
  },
  {
   "cell_type": "code",
   "execution_count": 117,
   "id": "4ef343c7",
   "metadata": {},
   "outputs": [],
   "source": [
    "hfss.modeler.mesh_length(\n",
    "                'cpw_mesh',\n",
    "                ['trace_meandro_1', 'second_cpw_Capacitor_1'],\n",
    "                MaxLength='0.008mm')"
   ]
  },
  {
   "cell_type": "code",
   "execution_count": 103,
   "id": "f95d2fc2",
   "metadata": {},
   "outputs": [
    {
     "name": "stderr",
     "output_type": "stream",
     "text": [
      "INFO 03:38PM [get_setup]: \tOpened setup `Setup`  (<class 'pyEPR.ansys.HfssDMSetup'>)\n"
     ]
    },
    {
     "data": {
      "text/plain": [
       "<pyEPR.ansys.HfssFrequencySweep at 0x1623203edd0>"
      ]
     },
     "execution_count": 103,
     "metadata": {},
     "output_type": "execute_result"
    }
   ],
   "source": [
    "## usando un step se recomienda que sea 1/10 el ancho de banda.\n",
    "## para una simulacion, el sweep debe contener a la frecuencia de resonancia\n",
    "hfss.add_sweep(setup_name=\"Setup\", \n",
    "               name=\"Sweep\", \n",
    "               start_ghz=5.8,\n",
    "               stop_ghz=6.2,\n",
    "               count=600,\n",
    "               type=\"Fast\")"
   ]
  },
  {
   "cell_type": "code",
   "execution_count": null,
   "id": "f26924fd-2fc0-4b31-8ebf-d40cdb5a01e2",
   "metadata": {},
   "outputs": [],
   "source": []
  },
  {
   "cell_type": "markdown",
   "id": "d8c140d5",
   "metadata": {},
   "source": [
    "# GDS file"
   ]
  },
  {
   "cell_type": "code",
   "execution_count": 48,
   "id": "eeabb209",
   "metadata": {},
   "outputs": [],
   "source": [
    "a_gds = design.renderers.gds\n",
    "### import and place the cell names in the Fake_Junctions\n",
    "# a_gds.options['path_filename'] = '../Files_mascara/Fake_Junctions.GDS'\n",
    "a_gds.options['path_filename'] = '../Fake_Junctions.GDS'"
   ]
  },
  {
   "cell_type": "code",
   "execution_count": 49,
   "id": "46a8c7bb",
   "metadata": {},
   "outputs": [],
   "source": [
    "### import and place the cell names in the Fake_Junctions\n",
    "# a_gds.options['path_filename'] = '../Files_mascara/Fake_Junctions.GDS'"
   ]
  },
  {
   "cell_type": "code",
   "execution_count": 50,
   "id": "89f18ad9",
   "metadata": {},
   "outputs": [],
   "source": [
    "## for fillet the short segments, True means no fillet\n",
    "a_gds.options['short_segments_to_not_fillet'] = 'False'\n",
    "\n",
    "scale_fillet = 2.0\n",
    "a_gds.options['check_short_segments_by_scaling_fillet'] = scale_fillet"
   ]
  },
  {
   "cell_type": "code",
   "execution_count": 51,
   "id": "6dbb0100",
   "metadata": {},
   "outputs": [
    {
     "data": {
      "text/plain": [
       "1"
      ]
     },
     "execution_count": 51,
     "metadata": {},
     "output_type": "execute_result"
    }
   ],
   "source": [
    "# Restore a_gds options\n",
    "\n",
    "a_gds.options.no_cheese['view_in_file']['main']={1: False}\n",
    "a_gds.options.cheese['view_in_file']['main']={1: False}\n",
    "a_gds.options['max_points'] = '8191'\n",
    "a_gds.options['no_cheese']['buffer']='50um'\n",
    "# We will shift the center of the chip to origin\n",
    "\n",
    "design.chips.main.size['center_x'] = '2.0mm'\n",
    "design.chips.main.size['center_y'] = '1.5mm'\n",
    "design.rebuild()\n",
    "\n",
    "### For demo, set max_points to 8191 and look at the GDS output.\n",
    "a_gds.options['max_points'] = '8191'\n",
    "\n",
    "# We next export it to GDS\n",
    "\n",
    "design.renderers.gds.export_to_gds(\"res6G30lc_gds.gds\")"
   ]
  },
  {
   "cell_type": "code",
   "execution_count": 30,
   "id": "6b7596bf",
   "metadata": {},
   "outputs": [
    {
     "data": {
      "text/plain": [
       "{'path':     component            name  \\\n",
       " 0           1       prime_cpw   \n",
       " 1           1   prime_cpw_sub   \n",
       " 2           1      second_cpw   \n",
       " 3           1  second_cpw_sub   \n",
       " 4           2       prime_cpw   \n",
       " ..        ...             ...   \n",
       " 125        65             cut   \n",
       " 126        66           trace   \n",
       " 127        66             cut   \n",
       " 128        67           trace   \n",
       " 129        67             cut   \n",
       " \n",
       "                                               geometry  layer  subtract  \\\n",
       " 0        LINESTRING (1.37500 9.00000, 1.62500 9.00000)      1     False   \n",
       " 1        LINESTRING (1.37500 9.00000, 1.62500 9.00000)      1      True   \n",
       " 2    LINESTRING (1.43750 8.94700, 1.56250 8.94700, ...      1     False   \n",
       " 3    LINESTRING (1.42650 8.94700, 1.56250 8.94700, ...      1      True   \n",
       " 4        LINESTRING (3.38800 9.00000, 3.61200 9.00000)      1     False   \n",
       " ..                                                 ...    ...       ...   \n",
       " 125  LINESTRING (4.44400 1.15300, 4.44400 1.55300, ...      1      True   \n",
       " 126  LINESTRING (6.45250 1.15200, 6.45250 1.55200, ...      1     False   \n",
       " 127  LINESTRING (6.45250 1.15200, 6.45250 1.55200, ...      1      True   \n",
       " 128  LINESTRING (8.45250 1.15200, 8.45250 1.35200, ...      1     False   \n",
       " 129  LINESTRING (8.45250 1.15200, 8.45250 1.35200, ...      1      True   \n",
       " \n",
       "      helper  chip  width fillet  hfss_wire_bonds  q3d_wire_bonds  \n",
       " 0     False  main  0.020    NaN             True           False  \n",
       " 1     False  main  0.042    NaN             True           False  \n",
       " 2     False  main  0.020   0.05             True           False  \n",
       " 3     False  main  0.042   0.05             True           False  \n",
       " 4     False  main  0.020    NaN             True           False  \n",
       " ..      ...   ...    ...    ...              ...             ...  \n",
       " 125   False  main  0.042   0.09             True           False  \n",
       " 126   False  main  0.020   0.09             True           False  \n",
       " 127   False  main  0.042   0.09             True           False  \n",
       " 128   False  main  0.020   0.09             True           False  \n",
       " 129   False  main  0.042   0.09             True           False  \n",
       " \n",
       " [130 rows x 11 columns],\n",
       " 'poly':   component        name                                           geometry  \\\n",
       " 0         5  launch_pad  POLYGON ((0.40000 9.01000, 0.27800 9.10000, 0....   \n",
       " 1         5      pocket  POLYGON ((0.40000 9.02100, 0.27800 9.16100, 0....   \n",
       " 2         6  launch_pad  POLYGON ((9.60000 0.99000, 9.72200 0.90000, 9....   \n",
       " 3         6      pocket  POLYGON ((9.60000 0.97900, 9.72200 0.83900, 9....   \n",
       " \n",
       "    layer  subtract  helper  chip fillet  \n",
       " 0      1     False   False  main    NaN  \n",
       " 1      1      True   False  main    NaN  \n",
       " 2      1     False   False  main    NaN  \n",
       " 3      1      True   False  main    NaN  ,\n",
       " 'junction': Empty GeoDataFrame\n",
       " Columns: [component, name, geometry, layer, subtract, helper, chip, width, hfss_inductance, hfss_capacitance, hfss_resistance, hfss_mesh_kw_jj, q3d_inductance, q3d_capacitance, q3d_resistance, q3d_mesh_kw_jj, gds_cell_name]\n",
       " Index: []}"
      ]
     },
     "execution_count": 30,
     "metadata": {},
     "output_type": "execute_result"
    }
   ],
   "source": [
    "#Many ways to view the QGeometry tables.\n",
    "#If you want to view, uncomment below lines and and run it.\n",
    "\n",
    "design.qgeometry.tables\n",
    "# design.qgeometry.tables['path']\n",
    "# design.qgeometry.tables['poly']"
   ]
  },
  {
   "cell_type": "code",
   "execution_count": null,
   "id": "a8e2c761-88c8-4392-adcf-f61cd7e232c1",
   "metadata": {},
   "outputs": [],
   "source": []
  }
 ],
 "metadata": {
  "kernelspec": {
   "display_name": "Python 3 (ipykernel)",
   "language": "python",
   "name": "python3"
  },
  "language_info": {
   "codemirror_mode": {
    "name": "ipython",
    "version": 3
   },
   "file_extension": ".py",
   "mimetype": "text/x-python",
   "name": "python",
   "nbconvert_exporter": "python",
   "pygments_lexer": "ipython3",
   "version": "3.10.11"
  },
  "latex_envs": {
   "LaTeX_envs_menu_present": true,
   "autoclose": false,
   "autocomplete": true,
   "bibliofile": "biblio.bib",
   "cite_by": "apalike",
   "current_citInitial": 1,
   "eqLabelWithNumbers": true,
   "eqNumInitial": 1,
   "hotkeys": {
    "equation": "Ctrl-E",
    "itemize": "Ctrl-I"
   },
   "labels_anchors": false,
   "latex_user_defs": false,
   "report_style_numbering": false,
   "user_envs_cfg": false
  },
  "toc": {
   "base_numbering": 1,
   "nav_menu": {},
   "number_sections": true,
   "sideBar": true,
   "skip_h1_title": false,
   "title_cell": "Table of Contents",
   "title_sidebar": "Contents",
   "toc_cell": false,
   "toc_position": {},
   "toc_section_display": true,
   "toc_window_display": false
  }
 },
 "nbformat": 4,
 "nbformat_minor": 5
}
