{
 "cells": [
  {
   "cell_type": "markdown",
   "id": "35d27b44",
   "metadata": {
    "tags": []
   },
   "source": [
    "# Resonador de 6 GHz y 30K\n",
    "\n",
    "\n",
    "Autor: Kelvin Ramos\n",
    "\n",
    "Descripción: Diseño y simulación de un resonador de cuarto de onda acoplado a una linea de transmisión coplanar. La frecuencia estimada es de 4GHz y el factor de calidad de 30K."
   ]
  },
  {
   "cell_type": "markdown",
   "id": "18d06a94-9d9b-4f36-8188-dc7bd3b842d1",
   "metadata": {},
   "source": [
    "Procedimiento:\n",
    "1. Función para estimar la longitud del resonador\n",
    "2. Librerias necesarias para el diseño del resonador\n",
    "4. Diseño del resonador\n",
    "5. Librerias necesarias para la simulacion\n",
    "6. Ejecutar la simulacion"
   ]
  },
  {
   "cell_type": "code",
   "execution_count": 5,
   "id": "82173e14-8a6d-464f-be8b-32c3cabc384b",
   "metadata": {},
   "outputs": [],
   "source": [
    "# from PIL import Image\n",
    "# im=Image.open('image/resonator.png')\n",
    "# im.show()"
   ]
  },
  {
   "cell_type": "markdown",
   "id": "0b3e8939-3c76-4bde-a5ba-4bc3f38b6879",
   "metadata": {},
   "source": [
    "## 1. Función para estimar la longitud del resonador"
   ]
  },
  {
   "cell_type": "code",
   "execution_count": 6,
   "id": "e6086a70-d06f-4c19-bda4-6cb9ad7115d8",
   "metadata": {},
   "outputs": [],
   "source": [
    "import numpy as np\n",
    "from scipy.constants import c"
   ]
  },
  {
   "cell_type": "markdown",
   "id": "4cf4d4dd-db7a-42ab-975b-f279cd275c04",
   "metadata": {},
   "source": [
    "Un resonador $\\lambda/4$ tiene su frecuencia de resonancia fundamental\n",
    "\n",
    "$$f_0=\\frac{c}{4L\\sqrt{\\epsilon_{eff}}}$$\n",
    "\n",
    "donde $\\epsilon_{eff}$ es la constante efectiva del medio por donde se propaga el campo electromagético, $L$ es la longitud del resonador y $c$ la velocidad de la luz."
   ]
  },
  {
   "cell_type": "code",
   "execution_count": 7,
   "id": "4e98b663-e1ba-4198-a726-315c6c42fb37",
   "metadata": {},
   "outputs": [],
   "source": [
    "## estimación de la longitud del resonador para una freq = 4GHz\n",
    "eff=(11.9+1)/2 ## Si y aire\n",
    "f=6e9 #frecuencia del resonador\n",
    "def longitud(x):\n",
    "    l=c/(4*np.sqrt(eff)*x)*1e3 # longitud en mm\n",
    "    return print(r'longitud l = {:.4f} mm para f0 = {} GHz'.format(l,x*1e-9))"
   ]
  },
  {
   "cell_type": "code",
   "execution_count": 8,
   "id": "329643a1-2108-4783-a774-aabd633b5d47",
   "metadata": {},
   "outputs": [
    {
     "name": "stdout",
     "output_type": "stream",
     "text": [
      "longitud l = 4.9185 mm para f0 = 6.0 GHz\n"
     ]
    }
   ],
   "source": [
    "longitud(f)"
   ]
  },
  {
   "cell_type": "code",
   "execution_count": null,
   "id": "186a79fe-d2e2-4b54-a7ef-bc207cff0ebb",
   "metadata": {},
   "outputs": [],
   "source": []
  },
  {
   "cell_type": "markdown",
   "id": "76d4de87-b783-4413-b79c-1e475a07f899",
   "metadata": {},
   "source": [
    "## 2. Librerias para el diseño de un resonador"
   ]
  },
  {
   "cell_type": "markdown",
   "id": "b6a2dca6-192b-4822-81d5-9269de752962",
   "metadata": {},
   "source": [
    "### 2.1 Paquete qiskit-metal"
   ]
  },
  {
   "cell_type": "markdown",
   "id": "5da63dab-9de2-4065-bb4b-646698097bf9",
   "metadata": {},
   "source": [
    "Para el diseño del resonador usaremos qiskit-metal https://qiskit.org/ecosystem/metal/"
   ]
  },
  {
   "cell_type": "code",
   "execution_count": 9,
   "id": "84429db0-463a-4f9e-8be3-210b3204e06d",
   "metadata": {},
   "outputs": [],
   "source": [
    "import qiskit_metal as metal #importamos la librería qiskit metal"
   ]
  },
  {
   "cell_type": "code",
   "execution_count": 10,
   "id": "19835c33-da2e-4a57-b092-1a73655ab3bf",
   "metadata": {},
   "outputs": [],
   "source": [
    "#metal.open_docs() ## para más informacion"
   ]
  },
  {
   "cell_type": "markdown",
   "id": "0375027d-3126-4102-a176-58b9274fc6aa",
   "metadata": {},
   "source": [
    "### 2.2 Modulos de qiskit-metal"
   ]
  },
  {
   "cell_type": "code",
   "execution_count": 11,
   "id": "b10cee97-321e-47d8-938d-7d1edc3d11fd",
   "metadata": {},
   "outputs": [],
   "source": [
    "## importo los modulos\n",
    "from qiskit_metal import designs, draw ## para crear y dibujar diseños de circuitos\n",
    "from qiskit_metal import MetalGUI, Dict, open_docs ## interfaz grafica, Diccionario, online doc "
   ]
  },
  {
   "cell_type": "code",
   "execution_count": 12,
   "id": "a3b96c1c-ace9-4aef-bfe4-7bb246f2e4f1",
   "metadata": {},
   "outputs": [],
   "source": [
    "#open_docs\n",
    "#Dict(a=1,b=2)\n",
    "#MetalGUI(design)"
   ]
  },
  {
   "cell_type": "code",
   "execution_count": 13,
   "id": "5a6f4518-6610-46cc-b51f-f09532386428",
   "metadata": {},
   "outputs": [],
   "source": [
    "from qiskit_metal.toolbox_metal import math_and_overrides\n",
    "from qiskit_metal.qlibrary.core import QComponent\n"
   ]
  },
  {
   "cell_type": "markdown",
   "id": "ee35ba66-8e12-4988-a78e-691ec617f805",
   "metadata": {},
   "source": [
    "### 2.3 Paquetes con los componentes del resonador"
   ]
  },
  {
   "cell_type": "code",
   "execution_count": 14,
   "id": "e03ae62a-9817-4410-b3d8-5c38cfd7047c",
   "metadata": {},
   "outputs": [],
   "source": [
    "## Linea y Meandro: basado en lineas de transmisión complanar\n",
    "from qiskit_metal.qlibrary.tlines.meandered import RouteMeander ## meandro cpw\n",
    "from qiskit_metal.qlibrary.tlines.pathfinder import RoutePathfinder ## linea cpw"
   ]
  },
  {
   "cell_type": "code",
   "execution_count": 15,
   "id": "a5568dd5-d160-4a48-a183-19c37633b44d",
   "metadata": {},
   "outputs": [],
   "source": [
    "## Terminales y acoplamientos: basado en lineas de transmisión complanar\n",
    "from qiskit_metal.qlibrary.terminations.launchpad_wb_driven import LaunchpadWirebondDriven #bonding\n",
    "from qiskit_metal.qlibrary.terminations.open_to_ground import OpenToGround #open-end\n",
    "from qiskit_metal.qlibrary.terminations.short_to_ground import ShortToGround #short-end\n",
    "from qiskit_metal.qlibrary.couplers.coupled_line_tee import CoupledLineTee #capacitor"
   ]
  },
  {
   "cell_type": "code",
   "execution_count": null,
   "id": "455ec152-668d-43e5-8693-090d326133c4",
   "metadata": {},
   "outputs": [],
   "source": []
  },
  {
   "cell_type": "markdown",
   "id": "b2e85e94-dabf-4016-a6cf-ff8e75a5c6f3",
   "metadata": {},
   "source": [
    "## 3. Diseño del resonador"
   ]
  },
  {
   "cell_type": "markdown",
   "id": "de8e44c8-a8eb-4402-9587-3106a68eb2d2",
   "metadata": {},
   "source": [
    "### 3.1 Configurando el chip"
   ]
  },
  {
   "cell_type": "code",
   "execution_count": 16,
   "id": "d28d7e03-b2e1-40aa-89fa-4598876b2ce4",
   "metadata": {},
   "outputs": [],
   "source": [
    "# Definimos la forma del del chip en donde estará el resonador\n",
    "design = designs.DesignPlanar()\n",
    "# información del objeto  \n",
    "design.chips \n",
    "####DesignPlanar: objeto, chips: atributo\n",
    "design.overwrite_enabled = True"
   ]
  },
  {
   "cell_type": "code",
   "execution_count": 17,
   "id": "3b401ff8-d63d-4788-80a3-a59287110fc9",
   "metadata": {},
   "outputs": [
    {
     "data": {
      "text/plain": [
       "{'main': {'material': 'silicon',\n",
       "  'layer_start': '0',\n",
       "  'layer_end': '2048',\n",
       "  'size': {'center_x': '2.0mm',\n",
       "   'center_y': '1.5mm',\n",
       "   'center_z': '0.0mm',\n",
       "   'size_x': '4mm',\n",
       "   'size_y': '3mm',\n",
       "   'size_z': '-200um',\n",
       "   'sample_holder_top': '890um',\n",
       "   'sample_holder_bottom': '1650um'}}}"
      ]
     },
     "execution_count": 17,
     "metadata": {},
     "output_type": "execute_result"
    }
   ],
   "source": [
    "design._chips['main']['size']['size_x'] = '4mm'\n",
    "design._chips['main']['size']['size_y'] = '3mm'\n",
    "design._chips['main']['size']['size_z'] = '-200um'\n",
    "design._chips.main.size['center_x'] = '2.0mm'\n",
    "design._chips.main.size['center_y'] = '1.5mm'\n",
    "design._chips"
   ]
  },
  {
   "cell_type": "code",
   "execution_count": 18,
   "id": "d0ce3623-b2d3-4b88-a9e5-3dd2fbefed2c",
   "metadata": {},
   "outputs": [],
   "source": [
    "gui = MetalGUI(design)"
   ]
  },
  {
   "cell_type": "code",
   "execution_count": 19,
   "id": "5966150a-a8a2-415c-bc03-6e5b247a0beb",
   "metadata": {},
   "outputs": [],
   "source": [
    "design.variables['cpw_width'] = '20um' #S from reference 2\n",
    "design.variables['cpw_gap'] = '11um' #W from reference 2"
   ]
  },
  {
   "cell_type": "markdown",
   "id": "2c8d3dca-562f-45ba-817b-6102c50ed30b",
   "metadata": {},
   "source": [
    "### 3.2 Diseño el Capacitor"
   ]
  },
  {
   "cell_type": "code",
   "execution_count": 20,
   "id": "f06170ed-756d-43d3-aeb1-59be69f93b3c",
   "metadata": {},
   "outputs": [],
   "source": [
    "## configuro la ubicacion del capacitor y sus parametros\n",
    "ubi_1= Dict(pos_x='2.0mm', pos_y='1.5mm', prime_width='20um', prime_gap='11um', \n",
    "         second_width='20um', second_gap='11um', coupling_space='10um', \n",
    "         coupling_length='160um', down_length='100um', fillet='90um', hfss_wire_bonds=True)\n",
    "\n",
    "### agrego al diseño\n",
    "Capacitor = CoupledLineTee(design, 'Capacitor', options=ubi_1)\n",
    "\n",
    "gui.rebuild()\n",
    "gui.autoscale()"
   ]
  },
  {
   "cell_type": "code",
   "execution_count": 21,
   "id": "8f0897cc-490a-4b4c-8dda-fd5d8005aaba",
   "metadata": {},
   "outputs": [],
   "source": [
    "#MetalGUI(design).autoscale()"
   ]
  },
  {
   "cell_type": "markdown",
   "id": "0d2b6278-5735-4f58-bcb9-99eef2bbe573",
   "metadata": {},
   "source": [
    "### 3.3 Diseño del las terminales de la linea "
   ]
  },
  {
   "cell_type": "code",
   "execution_count": 22,
   "id": "150567f6-e875-4131-b4d4-915aecf6f427",
   "metadata": {},
   "outputs": [],
   "source": [
    "# Driven Lauchpad 1\n",
    "\n",
    "x1 = '1.0mm'\n",
    "y1 = '1.5mm'\n",
    "ops_1 = Dict(chip='main', pos_x=x1, pos_y=y1, orientation='360', lead_length='10um', \n",
    "             pad_width='120um', pad_gap='61um', trace_width='20um', trace_gap='11um')\n",
    "LP1 = LaunchpadWirebondDriven(design, 'LP1', options = ops_1)\n",
    "\n",
    "# Driven Launchpad 2\n",
    "\n",
    "x2 = '3.0mm'\n",
    "y2 = '1.5mm'\n",
    "ops_2 = Dict(chip='main', pos_x=x2, pos_y=y2, orientation='180', lead_length='10um',\n",
    "             pad_width='120um', pad_gap='61um', trace_width='20um', trace_gap='11um')\n",
    "LP2 = LaunchpadWirebondDriven(design, 'LP2', options = ops_2)\n",
    "\n",
    "\n",
    "# Rebuild the GUI\n",
    "gui.rebuild()\n",
    "gui.autoscale()"
   ]
  },
  {
   "cell_type": "code",
   "execution_count": 23,
   "id": "7ed5046c-8ae3-42d6-8f21-18f6c75d2b6f",
   "metadata": {},
   "outputs": [],
   "source": [
    "#MetalGUI(design).autoscale()"
   ]
  },
  {
   "cell_type": "code",
   "execution_count": null,
   "id": "2cc189ce-e3fc-49e1-ba57-0fed87d4bba5",
   "metadata": {},
   "outputs": [],
   "source": []
  },
  {
   "cell_type": "markdown",
   "id": "05d89580-7721-4266-8a90-be7ac940d6e7",
   "metadata": {},
   "source": [
    "### 3.4 Linea de Transmision"
   ]
  },
  {
   "cell_type": "code",
   "execution_count": 24,
   "id": "e83eaa27-e6fb-4b4c-831a-3e3351da480b",
   "metadata": {},
   "outputs": [],
   "source": [
    "## Conecto LP1 con el extremo izquierdo del capacitor\n",
    "opt_line = Dict(chip='main', trace_width ='20um',\n",
    "        trace_gap ='11um', fillet='10um', hfss_wire_bonds = True, lead=Dict(end_straight='0.0mm'),\n",
    "        pin_inputs=Dict(start_pin=Dict(component='LP1', pin='tie'),\n",
    "                        end_pin=Dict(component='Capacitor', pin='prime_start')\n",
    "                        )\n",
    "               )\n",
    "\n",
    "linea_1 = RoutePathfinder(design, 'linea_1', options = opt_line )\n",
    "\n",
    "# Rebuild the GUI\n",
    "gui.rebuild()\n",
    "gui.autoscale() \n"
   ]
  },
  {
   "cell_type": "code",
   "execution_count": 25,
   "id": "949bf4a6-6949-4ad7-92ad-c44f330f16ea",
   "metadata": {},
   "outputs": [],
   "source": [
    "## uno el extremo derecho del capacitor con LP2\n",
    "opt_line2 = Dict(chip='main', trace_width ='20um',\n",
    "        trace_gap ='11um', fillet='10um', hfss_wire_bonds = True,\n",
    "        lead=Dict(end_straight='0.0mm'),\n",
    "                 pin_inputs=Dict(start_pin=Dict(component='Capacitor',pin='prime_end'),\n",
    "                                 end_pin=Dict(component='LP2', pin='tie')\n",
    "                                )\n",
    "                )\n",
    "\n",
    "linea_2 = RoutePathfinder(design, 'linea_4', options = opt_line2)\n",
    "#### LP2 capacitorb\n",
    "\n",
    "\n",
    "# Rebuild the GUI\n",
    "gui.rebuild()\n",
    "gui.autoscale() "
   ]
  },
  {
   "cell_type": "code",
   "execution_count": 26,
   "id": "ea3d9db6-1319-473c-8a59-92d2e0ede716",
   "metadata": {},
   "outputs": [],
   "source": [
    "#MetalGUI(design).autoscale()"
   ]
  },
  {
   "cell_type": "markdown",
   "id": "ee7ce7d0-1584-4f53-b49a-85cfdff64cab",
   "metadata": {},
   "source": [
    "### 3.4 Diseño del Meandro"
   ]
  },
  {
   "cell_type": "code",
   "execution_count": 27,
   "id": "0e1c447e-c90f-483e-8225-ba6ec7f9f9ec",
   "metadata": {},
   "outputs": [],
   "source": [
    "## defino el extremo cortocircuitado del resonador\n",
    "\n",
    "otg1 = ShortToGround(design, 'otg1', options=Dict(chip='main', pos_x='2.5mm',  pos_y='0.6mm',\n",
    "                                                  orientation='0'))\n",
    "\n",
    "## uno el extremo cortocircuitado con el extremo inferior del capacitor\n",
    "\n",
    "meandro_1 = RouteMeander(design, 'meandro_1',  options=Dict(chip='main',\n",
    "        trace_width ='20um',\n",
    "        trace_gap ='11um', \n",
    "        total_length='4.9185mm',  \n",
    "        hfss_wire_bonds = True,\n",
    "        fillet='90um',\n",
    "        lead = Dict(start_straight='300um', end_straight='10um'),\n",
    "        meander=Dict(spacing='200um', asymmetry='0um'),\n",
    "        pin_inputs=Dict(\n",
    "            start_pin=Dict(component='Capacitor', pin='second_end'),\n",
    "            end_pin=Dict(component='otg1', pin='short')), ))\n",
    "\n",
    "# rebuild the GUI\n",
    "gui.rebuild()\n",
    "gui.autoscale()"
   ]
  },
  {
   "cell_type": "code",
   "execution_count": 28,
   "id": "2130ece2-5732-4c0e-bcf8-4be349c6d82f",
   "metadata": {},
   "outputs": [],
   "source": [
    "#MetalGUI(design).autoscale()"
   ]
  },
  {
   "cell_type": "code",
   "execution_count": 29,
   "id": "904958e1-d122-4853-a761-99a11a644775",
   "metadata": {},
   "outputs": [
    {
     "data": {
      "text/plain": [
       "{'chip': 'main',\n",
       " 'layer': '1',\n",
       " 'pin_inputs': {'start_pin': {'component': 'Capacitor', 'pin': 'second_end'},\n",
       "  'end_pin': {'component': 'otg1', 'pin': 'short'}},\n",
       " 'fillet': '90um',\n",
       " 'lead': {'start_straight': '300um',\n",
       "  'end_straight': '10um',\n",
       "  'start_jogged_extension': '',\n",
       "  'end_jogged_extension': ''},\n",
       " 'total_length': '4.9185mm',\n",
       " 'trace_width': '20um',\n",
       " 'meander': {'spacing': '200um', 'asymmetry': '0um'},\n",
       " 'snap': 'true',\n",
       " 'prevent_short_edges': 'true',\n",
       " 'hfss_wire_bonds': True,\n",
       " 'q3d_wire_bonds': False,\n",
       " 'aedt_q3d_wire_bonds': False,\n",
       " 'aedt_hfss_drivenmodal_wire_bonds': False,\n",
       " 'aedt_hfss_eigenmode_wire_bonds': False,\n",
       " 'trace_gap': '11um',\n",
       " '_actual_length': '4.918500000000001 mm'}"
      ]
     },
     "execution_count": 29,
     "metadata": {},
     "output_type": "execute_result"
    }
   ],
   "source": [
    "meandro_1.options"
   ]
  },
  {
   "cell_type": "code",
   "execution_count": 30,
   "id": "caf71169-052a-4d71-9859-67119611af17",
   "metadata": {},
   "outputs": [
    {
     "data": {
      "image/png": "[encoded data removed]",
      "text/plain": [
       "<IPython.core.display.Image object>"
      ]
     },
     "metadata": {
      "image/png": {
       "width": 500
      }
     },
     "output_type": "display_data"
    }
   ],
   "source": [
    "gui.autoscale()\n",
    "gui.screenshot()"
   ]
  },
  {
   "cell_type": "code",
   "execution_count": null,
   "id": "98aa8737-934d-44aa-92d8-850ea68e0505",
   "metadata": {},
   "outputs": [],
   "source": []
  },
  {
   "cell_type": "markdown",
   "id": "1fe98650-7546-47a8-8117-b4de92ae3774",
   "metadata": {},
   "source": [
    "## 4. Librerias Necesarias para la simulacion"
   ]
  },
  {
   "cell_type": "markdown",
   "id": "df2ed70b-28cb-4cb7-b068-123f5bc966cf",
   "metadata": {},
   "source": [
    "### 4.1 Convergencia - Frecuencia"
   ]
  },
  {
   "cell_type": "code",
   "execution_count": 22,
   "id": "7dd4df2a-1883-48bb-92aa-c926d22fac02",
   "metadata": {},
   "outputs": [],
   "source": [
    "from qiskit_metal.analyses.quantization import EPRanalysis\n",
    "eig_res = EPRanalysis(design, \"hfss\")"
   ]
  },
  {
   "cell_type": "code",
   "execution_count": 23,
   "id": "c20d6253-4d85-4c2b-95e8-567af55e056b",
   "metadata": {},
   "outputs": [],
   "source": [
    "hfss = eig_res.sim.renderer"
   ]
  },
  {
   "cell_type": "code",
   "execution_count": 24,
   "id": "ae28cde3-fdee-42b2-b955-84a113b36221",
   "metadata": {},
   "outputs": [
    {
     "name": "stderr",
     "output_type": "stream",
     "text": [
      "INFO 04:33PM [connect_project]: Connecting to Ansys Desktop API...\n",
      "INFO 04:33PM [load_ansys_project]: \tOpened Ansys App\n",
      "INFO 04:33PM [load_ansys_project]: \tOpened Ansys Desktop v2018.0.0\n",
      "INFO 04:33PM [load_ansys_project]: \tOpened Ansys Project\n",
      "\tFolder:    C:/Users/Quantum Circuits IB/Documents/Ansoft/\n",
      "\tProject:   Project14\n",
      "INFO 04:33PM [connect_design]: \tOpened active design\n",
      "\tDesign:    HFSSDesign1 [Solution type: DrivenModal]\n",
      "WARNING 04:33PM [connect_setup]: \tNo design setup detected.\n",
      "WARNING 04:33PM [connect_setup]: \tCreating driven modal default setup.\n",
      "INFO 04:33PM [get_setup]: \tOpened setup `Setup`  (<class 'pyEPR.ansys.HfssDMSetup'>)\n",
      "INFO 04:33PM [connect]: \tConnected to project \"Project14\" and design \"HFSSDesign1\" 😀 \n",
      "\n"
     ]
    },
    {
     "data": {
      "text/plain": [
       "True"
      ]
     },
     "execution_count": 24,
     "metadata": {},
     "output_type": "execute_result"
    }
   ],
   "source": [
    "hfss.start() ## start hfss"
   ]
  },
  {
   "cell_type": "code",
   "execution_count": 25,
   "id": "0644074d",
   "metadata": {},
   "outputs": [],
   "source": [
    "# clean the design if needed\n",
    "hfss.clean_active_design()"
   ]
  },
  {
   "cell_type": "code",
   "execution_count": 26,
   "id": "f1dec56a",
   "metadata": {},
   "outputs": [
    {
     "name": "stderr",
     "output_type": "stream",
     "text": [
      "04:33PM 28s WARNING [activate_ansys_design]: The design_name=Readout was not in active project.  Designs in active project are: \n",
      "['HFSSDesign1'].  A new design will be added to the project.  \n",
      "INFO 04:33PM [connect_design]: \tOpened active design\n",
      "\tDesign:    Readout [Solution type: Eigenmode]\n",
      "WARNING 04:33PM [connect_setup]: \tNo design setup detected.\n",
      "WARNING 04:33PM [connect_setup]: \tCreating eigenmode default setup.\n",
      "INFO 04:33PM [get_setup]: \tOpened setup `Setup`  (<class 'pyEPR.ansys.HfssEMSetup'>)\n"
     ]
    }
   ],
   "source": [
    "hfss.activate_ansys_design(\"Readout\", 'eigenmode')  # use new_ansys_design() to force creation of a blank design"
   ]
  },
  {
   "cell_type": "code",
   "execution_count": 27,
   "id": "2de048bc",
   "metadata": {},
   "outputs": [],
   "source": [
    "hfss.render_design([], [])\n",
    "#hfss.save_screenshot()"
   ]
  },
  {
   "cell_type": "code",
   "execution_count": 28,
   "id": "5e4bd3fc",
   "metadata": {},
   "outputs": [
    {
     "name": "stderr",
     "output_type": "stream",
     "text": [
      "INFO 04:34PM [analyze]: Analyzing setup Setup\n"
     ]
    },
    {
     "name": "stdout",
     "output_type": "stream",
     "text": [
      "\n",
      "Number of eigenmodes to find             = 1\n",
      "Number of simulation passes              = 10\n",
      "Convergence freq max delta percent diff  = 0.01\n",
      "\n"
     ]
    }
   ],
   "source": [
    "# Analysis properties\n",
    "setup = hfss.pinfo.setup\n",
    "setup.passes = 10\n",
    "setup.delta_f=0.01\n",
    "print(f\"\"\"\n",
    "Number of eigenmodes to find             = {setup.n_modes}\n",
    "Number of simulation passes              = {setup.passes}\n",
    "Convergence freq max delta percent diff  = {setup.delta_f}\n",
    "\"\"\")\n",
    "\n",
    "# Next 2 lines are counterinuitive, since there is no junction in this resonator.\n",
    "# However, these are necessary to make pyEPR work correctly. Please do note delete\n",
    "hfss.pinfo.design.set_variable('Lj', '10 nH')\n",
    "hfss.pinfo.design.set_variable('Cj', '0 fF')\n",
    "setup.analyze()"
   ]
  },
  {
   "cell_type": "code",
   "execution_count": 29,
   "id": "33ac0cfd",
   "metadata": {},
   "outputs": [
    {
     "name": "stderr",
     "output_type": "stream",
     "text": [
      "04:35PM 27s INFO [get_f_convergence]: Saved convergences to C:\\Users\\Quantum Circuits IB\\Documents\\Kelvin\\qiskit-metal\\script\\hfss_eig_f_convergence.csv\n"
     ]
    }
   ],
   "source": [
    "eig_res.sim.convergence_t, eig_res.sim.convergence_f, _ = hfss.get_convergences()\n",
    "eig_res.sim.plot_convergences()"
   ]
  },
  {
   "cell_type": "code",
   "execution_count": null,
   "id": "e1515845",
   "metadata": {},
   "outputs": [],
   "source": []
  },
  {
   "cell_type": "markdown",
   "id": "326eb5e7-3f08-46c7-8a6f-aef5bd275cc2",
   "metadata": {},
   "source": [
    "### Resonancia"
   ]
  },
  {
   "cell_type": "code",
   "execution_count": 30,
   "id": "fae14f5b",
   "metadata": {},
   "outputs": [],
   "source": [
    "from qiskit_metal.analyses.simulation import ScatteringImpedanceSim\n",
    "em1 = ScatteringImpedanceSim(design, \"hfss\")"
   ]
  },
  {
   "cell_type": "code",
   "execution_count": 31,
   "id": "e652d20b",
   "metadata": {},
   "outputs": [],
   "source": [
    "design_name= \"Sweep_DrivenModal\"\n",
    "qcomp_render = [] # Means to render everything in qgeometry table.\n",
    "open_terminations = []\n",
    "\n",
    "# Here, pin LP1_in and LP2_in are converted into lumped ports,\n",
    "#           each with an impedance of 50 Ohms. <br>\n",
    "port_list = [('LP1', 'in', 50),\n",
    "             ('LP2', 'in', 50)]\n",
    "box_plus_buffer = True"
   ]
  },
  {
   "cell_type": "code",
   "execution_count": 32,
   "id": "343f9109",
   "metadata": {},
   "outputs": [
    {
     "name": "stderr",
     "output_type": "stream",
     "text": [
      "INFO 04:36PM [connect_project]: Connecting to Ansys Desktop API...\n",
      "INFO 04:36PM [load_ansys_project]: \tOpened Ansys App\n",
      "INFO 04:36PM [load_ansys_project]: \tOpened Ansys Desktop v2018.0.0\n",
      "INFO 04:36PM [load_ansys_project]: \tOpened Ansys Project\n",
      "\tFolder:    C:/Users/Quantum Circuits IB/Documents/Ansoft/\n",
      "\tProject:   Project14\n",
      "INFO 04:36PM [connect_design]: \tOpened active design\n",
      "\tDesign:    Readout [Solution type: Eigenmode]\n",
      "INFO 04:36PM [get_setup]: \tOpened setup `Setup`  (<class 'pyEPR.ansys.HfssEMSetup'>)\n",
      "INFO 04:36PM [connect]: \tConnected to project \"Project14\" and design \"Readout\" 😀 \n",
      "\n"
     ]
    },
    {
     "data": {
      "text/plain": [
       "True"
      ]
     },
     "execution_count": 32,
     "metadata": {},
     "output_type": "execute_result"
    }
   ],
   "source": [
    "# we use HFSS as rendere\n",
    "hfss = em1.renderer\n",
    "hfss.start()"
   ]
  },
  {
   "cell_type": "code",
   "execution_count": 33,
   "id": "f26fc3b5",
   "metadata": {
    "scrolled": true
   },
   "outputs": [
    {
     "name": "stderr",
     "output_type": "stream",
     "text": [
      "04:36PM 28s WARNING [activate_ansys_design]: The design_name=version_3 was not in active project.  Designs in active project are: \n",
      "['HFSSDesign1', 'Readout'].  A new design will be added to the project.  \n",
      "INFO 04:36PM [connect_design]: \tOpened active design\n",
      "\tDesign:    version_3 [Solution type: DrivenModal]\n",
      "WARNING 04:36PM [connect_setup]: \tNo design setup detected.\n",
      "WARNING 04:36PM [connect_setup]: \tCreating driven modal default setup.\n",
      "INFO 04:36PM [get_setup]: \tOpened setup `Setup`  (<class 'pyEPR.ansys.HfssDMSetup'>)\n",
      "04:36PM 29s WARNING [edit_drivenmodal_setup]: In setup_args, key=max_delta_s, value=0.01 is not in pinfo.setup, the key/value pair from setup_args not added to Setup in Ansys.\n"
     ]
    }
   ],
   "source": [
    "# Here we activate the design for a drivenmodal solution\n",
    "hfss.activate_ansys_design(\"version_3\", 'drivenmodal')\n",
    "setup_args = Dict(max_delta_s=0.01)\n",
    "setup_args.name = 'Setup'\n",
    "hfss.edit_drivenmodal_setup(setup_args)"
   ]
  },
  {
   "cell_type": "code",
   "execution_count": 34,
   "id": "cf19f4e6",
   "metadata": {},
   "outputs": [],
   "source": [
    "# set buffer: espacio alrededor de la geometría que está siendo simulada\n",
    "hfss.options['x_buffer_width_mm'] = 0.2\n",
    "hfss.options['y_buffer_width_mm'] = 0.2"
   ]
  },
  {
   "cell_type": "code",
   "execution_count": 35,
   "id": "9e8ab762",
   "metadata": {},
   "outputs": [],
   "source": [
    "# clean the design if needed\n",
    "hfss.clean_active_design()"
   ]
  },
  {
   "cell_type": "code",
   "execution_count": 36,
   "id": "5e64d681",
   "metadata": {},
   "outputs": [],
   "source": [
    "# render the design\n",
    "hfss.render_design(selection=[], \n",
    "                   open_pins=open_terminations, \n",
    "                   port_list=port_list, \n",
    "                   box_plus_buffer = box_plus_buffer)"
   ]
  },
  {
   "cell_type": "code",
   "execution_count": 37,
   "id": "4ef343c7",
   "metadata": {},
   "outputs": [],
   "source": [
    "hfss.modeler.mesh_length(\n",
    "                'cpw_mesh',\n",
    "                ['trace_meandro_1'],\n",
    "                MaxLength='0.010mm')"
   ]
  },
  {
   "cell_type": "code",
   "execution_count": 38,
   "id": "f95d2fc2",
   "metadata": {},
   "outputs": [
    {
     "name": "stderr",
     "output_type": "stream",
     "text": [
      "INFO 04:37PM [get_setup]: \tOpened setup `Setup`  (<class 'pyEPR.ansys.HfssDMSetup'>)\n"
     ]
    },
    {
     "data": {
      "text/plain": [
       "<pyEPR.ansys.HfssFrequencySweep at 0x1a3ad20cdf0>"
      ]
     },
     "execution_count": 38,
     "metadata": {},
     "output_type": "execute_result"
    }
   ],
   "source": [
    "## usando un step se recomienda que sea 1/10 el ancho de banda.\n",
    "## para una simulacion, el sweep debe contener a la frecuencia de resonancia\n",
    "hfss.add_sweep(setup_name=\"Setup\", \n",
    "               name=\"Sweep\", \n",
    "               start_ghz=5.5,\n",
    "               stop_ghz=6.5,\n",
    "               count=100,\n",
    "               type=\"Fast\")"
   ]
  },
  {
   "cell_type": "markdown",
   "id": "d8c140d5",
   "metadata": {},
   "source": [
    "# GDS file"
   ]
  },
  {
   "cell_type": "code",
   "execution_count": 31,
   "id": "eeabb209",
   "metadata": {},
   "outputs": [],
   "source": [
    "a_gds = design.renderers.gds\n",
    "### import and place the cell names in the Fake_Junctions\n",
    "a_gds.options['path_filename'] = 'Fake_Junctions.GDS'"
   ]
  },
  {
   "cell_type": "code",
   "execution_count": 32,
   "id": "46a8c7bb",
   "metadata": {},
   "outputs": [],
   "source": [
    "# ### import and place the cell names in the Fake_Junctions\n",
    "# a_gds.options['path_filename'] = '../Files_mascara/Fake_Junctions.GDS'"
   ]
  },
  {
   "cell_type": "code",
   "execution_count": 33,
   "id": "89f18ad9",
   "metadata": {},
   "outputs": [],
   "source": [
    "## for fillet the short segments, True means no fillet\n",
    "a_gds.options['short_segments_to_not_fillet'] = 'False'\n",
    "\n",
    "scale_fillet = 2.0\n",
    "a_gds.options['check_short_segments_by_scaling_fillet'] = scale_fillet"
   ]
  },
  {
   "cell_type": "code",
   "execution_count": 36,
   "id": "6dbb0100",
   "metadata": {},
   "outputs": [
    {
     "data": {
      "text/plain": [
       "1"
      ]
     },
     "execution_count": 36,
     "metadata": {},
     "output_type": "execute_result"
    }
   ],
   "source": [
    "# Restore a_gds options\n",
    "\n",
    "a_gds.options.no_cheese['view_in_file']['main']={1: False}\n",
    "a_gds.options.cheese['view_in_file']['main']={1: False}\n",
    "a_gds.options['max_points'] = '8191'\n",
    "a_gds.options['no_cheese']['buffer']='50um'\n",
    "# We will shift the center of the chip to origin\n",
    "\n",
    "design.chips.main.size['center_x'] = '2.0mm'\n",
    "design.chips.main.size['center_y'] = '1.5mm'\n",
    "design.rebuild()\n",
    "\n",
    "### For demo, set max_points to 8191 and look at the GDS output.\n",
    "a_gds.options['max_points'] = '8191'\n",
    "\n",
    "# We next export it to GDS\n",
    "\n",
    "design.renderers.gds.export_to_gds(\"mask/resonator.gds\")"
   ]
  },
  {
   "cell_type": "code",
   "execution_count": null,
   "id": "6b7596bf",
   "metadata": {},
   "outputs": [],
   "source": [
    "#Many ways to view the QGeometry tables.\n",
    "#If you want to view, uncomment below lines and and run it.\n",
    "\n",
    "design.qgeometry.tables\n",
    "# design.qgeometry.tables['path']\n",
    "# design.qgeometry.tables['poly']"
   ]
  },
  {
   "cell_type": "code",
   "execution_count": null,
   "id": "a8e2c761-88c8-4392-adcf-f61cd7e232c1",
   "metadata": {},
   "outputs": [],
   "source": []
  }
 ],
 "metadata": {
  "kernelspec": {
   "display_name": "Python 3 (ipykernel)",
   "language": "python",
   "name": "python3"
  },
  "language_info": {
   "codemirror_mode": {
    "name": "ipython",
    "version": 3
   },
   "file_extension": ".py",
   "mimetype": "text/x-python",
   "name": "python",
   "nbconvert_exporter": "python",
   "pygments_lexer": "ipython3",
   "version": "3.10.11"
  },
  "latex_envs": {
   "LaTeX_envs_menu_present": true,
   "autoclose": false,
   "autocomplete": true,
   "bibliofile": "biblio.bib",
   "cite_by": "apalike",
   "current_citInitial": 1,
   "eqLabelWithNumbers": true,
   "eqNumInitial": 1,
   "hotkeys": {
    "equation": "Ctrl-E",
    "itemize": "Ctrl-I"
   },
   "labels_anchors": false,
   "latex_user_defs": false,
   "report_style_numbering": false,
   "user_envs_cfg": false
  },
  "toc": {
   "base_numbering": 1,
   "nav_menu": {},
   "number_sections": true,
   "sideBar": true,
   "skip_h1_title": false,
   "title_cell": "Table of Contents",
   "title_sidebar": "Contents",
   "toc_cell": false,
   "toc_position": {},
   "toc_section_display": true,
   "toc_window_display": false
  }
 },
 "nbformat": 4,
 "nbformat_minor": 5
}
